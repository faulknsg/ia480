{
 "cells": [
  {
   "cell_type": "markdown",
   "id": "57f1eff0-5349-4778-ad29-9cd14cc2a966",
   "metadata": {},
   "source": [
    "# Collect_Twitter_Data"
   ]
  },
  {
   "cell_type": "markdown",
   "id": "6557ec59-d7dd-477c-a329-42655807b081",
   "metadata": {},
   "source": [
    "## Install Python libraries"
   ]
  },
  {
   "cell_type": "markdown",
   "id": "9a59aa4f-fe96-4c36-860b-b6cadb051775",
   "metadata": {},
   "source": [
    "We need the [pymongo](https://pypi.org/project/pymongo/) to manage the MongoDB database, and [tweepy](https://www.tweepy.org/) to call the Twitter APIs."
   ]
  },
  {
   "cell_type": "code",
   "execution_count": 3,
   "id": "80b7a187-9aaa-415d-9b12-af88fc29acbb",
   "metadata": {
    "tags": []
   },
   "outputs": [
    {
     "name": "stdout",
     "output_type": "stream",
     "text": [
      "Requirement already satisfied: pymongo in /home/ec2-user/anaconda3/envs/python3/lib/python3.10/site-packages (4.11.3)\n",
      "Requirement already satisfied: dnspython<3.0.0,>=1.16.0 in /home/ec2-user/anaconda3/envs/python3/lib/python3.10/site-packages (from pymongo) (2.7.0)\n",
      "Note: you may need to restart the kernel to use updated packages.\n"
     ]
    }
   ],
   "source": [
    "pip install pymongo"
   ]
  },
  {
   "cell_type": "code",
   "execution_count": 4,
   "id": "3f526554-c100-4747-8b25-148a2602353e",
   "metadata": {
    "tags": []
   },
   "outputs": [
    {
     "name": "stdout",
     "output_type": "stream",
     "text": [
      "Requirement already satisfied: tweepy in /home/ec2-user/anaconda3/envs/python3/lib/python3.10/site-packages (4.15.0)\n",
      "Requirement already satisfied: oauthlib<4,>=3.2.0 in /home/ec2-user/anaconda3/envs/python3/lib/python3.10/site-packages (from tweepy) (3.2.2)\n",
      "Requirement already satisfied: requests<3,>=2.27.0 in /home/ec2-user/anaconda3/envs/python3/lib/python3.10/site-packages (from tweepy) (2.32.3)\n",
      "Requirement already satisfied: requests-oauthlib<3,>=1.2.0 in /home/ec2-user/anaconda3/envs/python3/lib/python3.10/site-packages (from tweepy) (2.0.0)\n",
      "Requirement already satisfied: charset_normalizer<4,>=2 in /home/ec2-user/anaconda3/envs/python3/lib/python3.10/site-packages (from requests<3,>=2.27.0->tweepy) (3.4.1)\n",
      "Requirement already satisfied: idna<4,>=2.5 in /home/ec2-user/anaconda3/envs/python3/lib/python3.10/site-packages (from requests<3,>=2.27.0->tweepy) (3.10)\n",
      "Requirement already satisfied: urllib3<3,>=1.21.1 in /home/ec2-user/anaconda3/envs/python3/lib/python3.10/site-packages (from requests<3,>=2.27.0->tweepy) (2.3.0)\n",
      "Requirement already satisfied: certifi>=2017.4.17 in /home/ec2-user/anaconda3/envs/python3/lib/python3.10/site-packages (from requests<3,>=2.27.0->tweepy) (2025.1.31)\n",
      "Note: you may need to restart the kernel to use updated packages.\n"
     ]
    }
   ],
   "source": [
    "pip install tweepy"
   ]
  },
  {
   "cell_type": "markdown",
   "id": "b53da235-9df8-4ac0-b5a8-4952c5460a66",
   "metadata": {},
   "source": [
    "## Secret Manager Function"
   ]
  },
  {
   "cell_type": "code",
   "execution_count": 5,
   "id": "c1ec8411-fe46-4795-a493-6b1a55294954",
   "metadata": {
    "tags": []
   },
   "outputs": [],
   "source": [
    "import boto3\n",
    "from botocore.exceptions import ClientError\n",
    "import json\n",
    "\n",
    "def get_secret(secret_name):\n",
    "    region_name = \"us-east-1\"\n",
    "\n",
    "    # Create a Secrets Manager client\n",
    "    session = boto3.session.Session()\n",
    "    client = session.client(\n",
    "        service_name='secretsmanager',\n",
    "        region_name=region_name\n",
    "    )\n",
    "\n",
    "    try:\n",
    "        get_secret_value_response = client.get_secret_value(\n",
    "            SecretId=secret_name\n",
    "        )\n",
    "    except ClientError as e:\n",
    "        raise e\n",
    "\n",
    "    secret = get_secret_value_response['SecretString']\n",
    "    \n",
    "    return json.loads(secret)"
   ]
  },
  {
   "cell_type": "markdown",
   "id": "42f3dc4a-fbd3-4089-99d6-19e19112fc74",
   "metadata": {
    "tags": []
   },
   "source": [
    "## Import Python Libraries and Credentials  "
   ]
  },
  {
   "cell_type": "code",
   "execution_count": 6,
   "id": "d9693a5a-f992-45a0-9961-0f7b1e7d2f55",
   "metadata": {
    "tags": []
   },
   "outputs": [],
   "source": [
    "import pymongo\n",
    "from pymongo import MongoClient\n",
    "import json\n",
    "import tweepy\n",
    "\n",
    "bearer_token   = get_secret('twitter_api')['bearer_token']\n",
    "\n",
    "mongodb_connect = get_secret('mongodb')['connection_string']"
   ]
  },
  {
   "cell_type": "markdown",
   "id": "483a6608-4d5a-4743-8b59-3e5dc3392053",
   "metadata": {},
   "source": [
    "## Connect to the MongoDB cluster"
   ]
  },
  {
   "cell_type": "markdown",
   "id": "cec329ed-eb8c-43fd-b648-e16ffb671625",
   "metadata": {},
   "source": [
    "We will create a database named 'demo' and a collection named 'tweet_collection' in your MongoDB database."
   ]
  },
  {
   "cell_type": "code",
   "execution_count": 7,
   "id": "4dc19bad-51d9-4f00-b1cc-3c7ee1ec4c43",
   "metadata": {
    "tags": []
   },
   "outputs": [
    {
     "data": {
      "text/plain": [
       "'tweet.id_1'"
      ]
     },
     "execution_count": 7,
     "metadata": {},
     "output_type": "execute_result"
    }
   ],
   "source": [
    "mongo_client = MongoClient(mongodb_connect)\n",
    "db = mongo_client.demo # use or create a database named demo\n",
    "tweet_collection = db.tweet_collection #use or create a collection named tweet_collection\n",
    "tweet_collection.create_index([(\"tweet.id\", pymongo.ASCENDING)],unique = True) # make sure the collected tweets are unique"
   ]
  },
  {
   "cell_type": "markdown",
   "id": "6ae1cf9f-0ef0-495b-b1fd-d3f7ad205feb",
   "metadata": {},
   "source": [
    "## Use the API to collect tweets"
   ]
  },
  {
   "cell_type": "markdown",
   "id": "929f1c79-ddc1-429a-ac39-da29961cc74c",
   "metadata": {},
   "source": [
    "For more about Twitter API 2.0 query operators, please check [Search Tweets](https://developer.twitter.com/en/docs/twitter-api/tweets/search/integrate/build-a-query)"
   ]
  },
  {
   "cell_type": "code",
   "execution_count": 8,
   "id": "e124c5a1-495a-43ad-81a6-4d0c063f13f6",
   "metadata": {
    "tags": []
   },
   "outputs": [],
   "source": [
    "query = 'jmu'  #query tweets contain the word of 'generative ai'"
   ]
  },
  {
   "cell_type": "markdown",
   "id": "ae9141e7-af4d-4bc6-bcc2-710fa2e8a569",
   "metadata": {},
   "source": [
    "Insert the collected Tweets into the MongoDB database. You can set a different max_result, but the max tweets we can collect is 100."
   ]
  },
  {
   "cell_type": "code",
   "execution_count": 9,
   "id": "0c658c37-2112-4ff4-9ba2-4b7cb83c44fb",
   "metadata": {
    "tags": []
   },
   "outputs": [
    {
     "name": "stdout",
     "output_type": "stream",
     "text": [
      "2025-03-31T18:53:00.000Z\n",
      "2025-03-31T18:51:38.000Z\n",
      "2025-03-31T18:51:20.000Z\n",
      "2025-03-31T18:51:10.000Z\n",
      "2025-03-31T18:51:07.000Z\n",
      "2025-03-31T18:51:04.000Z\n",
      "2025-03-31T18:42:05.000Z\n",
      "2025-03-31T18:39:38.000Z\n",
      "2025-03-31T18:37:38.000Z\n",
      "2025-03-31T18:31:38.000Z\n",
      "2025-03-31T18:29:22.000Z\n",
      "2025-03-31T18:29:22.000Z\n",
      "2025-03-31T18:26:05.000Z\n",
      "2025-03-31T18:25:56.000Z\n",
      "2025-03-31T18:18:49.000Z\n",
      "2025-03-31T18:16:11.000Z\n",
      "2025-03-31T18:16:09.000Z\n",
      "2025-03-31T18:15:26.000Z\n",
      "2025-03-31T18:14:10.000Z\n",
      "2025-03-31T18:13:36.000Z\n",
      "2025-03-31T18:12:10.000Z\n",
      "2025-03-31T18:07:31.000Z\n",
      "2025-03-31T17:57:26.000Z\n",
      "2025-03-31T17:56:39.000Z\n",
      "2025-03-31T17:56:18.000Z\n",
      "2025-03-31T17:55:31.000Z\n",
      "2025-03-31T17:54:11.000Z\n",
      "2025-03-31T17:47:31.000Z\n",
      "2025-03-31T17:45:35.000Z\n",
      "2025-03-31T17:43:46.000Z\n",
      "2025-03-31T17:38:08.000Z\n",
      "2025-03-31T17:35:16.000Z\n",
      "2025-03-31T17:35:07.000Z\n",
      "2025-03-31T17:34:41.000Z\n",
      "2025-03-31T17:34:36.000Z\n",
      "2025-03-31T17:34:23.000Z\n",
      "2025-03-31T17:34:00.000Z\n",
      "2025-03-31T17:33:36.000Z\n",
      "2025-03-31T17:33:30.000Z\n",
      "2025-03-31T17:33:01.000Z\n",
      "2025-03-31T17:31:54.000Z\n",
      "2025-03-31T17:31:49.000Z\n",
      "2025-03-31T17:31:42.000Z\n",
      "2025-03-31T17:31:35.000Z\n",
      "2025-03-31T17:31:26.000Z\n",
      "2025-03-31T17:30:51.000Z\n",
      "2025-03-31T17:30:31.000Z\n",
      "2025-03-31T17:22:17.000Z\n",
      "2025-03-31T17:19:57.000Z\n",
      "2025-03-31T17:16:40.000Z\n",
      "2025-03-31T17:15:53.000Z\n",
      "2025-03-31T17:12:09.000Z\n",
      "2025-03-31T17:10:56.000Z\n",
      "2025-03-31T17:10:07.000Z\n",
      "2025-03-31T17:08:59.000Z\n",
      "2025-03-31T17:07:45.000Z\n",
      "2025-03-31T17:06:18.000Z\n",
      "2025-03-31T16:58:57.000Z\n",
      "2025-03-31T16:57:51.000Z\n",
      "2025-03-31T16:56:56.000Z\n",
      "2025-03-31T16:54:38.000Z\n",
      "2025-03-31T16:54:15.000Z\n",
      "2025-03-31T16:53:24.000Z\n",
      "2025-03-31T16:51:01.000Z\n",
      "2025-03-31T16:50:47.000Z\n",
      "2025-03-31T16:50:25.000Z\n",
      "2025-03-31T16:50:19.000Z\n",
      "2025-03-31T16:48:54.000Z\n",
      "2025-03-31T16:46:15.000Z\n"
     ]
    }
   ],
   "source": [
    "tweet_client = tweepy.Client(bearer_token)\n",
    "\n",
    "tweets = tweet_client.search_recent_tweets(query=query, max_results=100,\n",
    "                                    expansions=['author_id'], \n",
    "                                    tweet_fields = ['created_at','entities','lang','public_metrics','geo'],\n",
    "                                    user_fields = ['id', 'location','name', 'public_metrics','username'])\n",
    "\n",
    "next_token = tweets.meta['next_token']\n",
    "for user, tweet in zip(tweets.includes['users'],tweets.data):\n",
    "    tweet_json = {}\n",
    "    tweet_json['tweet']= tweet.data\n",
    "    tweet_json['user'] = user.data\n",
    "    try:\n",
    "        tweet_collection.insert_one(tweet_json)\n",
    "        print(tweet_json['tweet']['created_at'])\n",
    "    except:\n",
    "        pass"
   ]
  },
  {
   "cell_type": "markdown",
   "id": "6ebcde75-fded-4a1b-865a-4774b723dd31",
   "metadata": {},
   "source": [
    "Continue fetching early tweets with the same query. YOU WILL REACH YOUR RATE LIMIT VERY FAST!"
   ]
  },
  {
   "cell_type": "code",
   "execution_count": null,
   "id": "f48e6f2a-e171-46a0-b4b2-8ef3ca7f6c1a",
   "metadata": {
    "tags": []
   },
   "outputs": [],
   "source": [
    "for i in range(5): # change the number here to fetch more tweets\n",
    "    tweets = tweet_client.search_recent_tweets(query=query, max_results=100,\n",
    "                                        expansions=['author_id'], \n",
    "                                        tweet_fields = ['created_at','entities','lang','public_metrics','geo'],\n",
    "                                        user_fields = ['id', 'location','name', 'public_metrics','username'],\n",
    "                                        next_token=next_token)\n",
    "    next_token = tweets.meta['next_token']\n",
    "    for user, tweet in zip(tweets.includes['users'],tweets.data):\n",
    "        tweet_json = {}\n",
    "        tweet_json['tweet']= tweet.data\n",
    "        tweet_json['user'] = user.data\n",
    "        try:\n",
    "            tweet_collection.insert_one(tweet_json)\n",
    "            print(tweet_json['tweet']['created_at'])\n",
    "        except:\n",
    "            pass"
   ]
  },
  {
   "cell_type": "markdown",
   "id": "e6367268-1426-477a-b89a-54886f3f46b6",
   "metadata": {},
   "source": [
    "## Close Database Connection"
   ]
  },
  {
   "cell_type": "code",
   "execution_count": null,
   "id": "5b174ef4-e75a-4540-ba96-0dd92e8e5b33",
   "metadata": {
    "tags": []
   },
   "outputs": [],
   "source": [
    "mongo_client.close()"
   ]
  },
  {
   "cell_type": "code",
   "execution_count": null,
   "id": "093683c5-fe55-49bb-b19a-f6084179927d",
   "metadata": {},
   "outputs": [],
   "source": []
  }
 ],
 "metadata": {
  "kernelspec": {
   "display_name": "conda_python3",
   "language": "python",
   "name": "conda_python3"
  },
  "language_info": {
   "codemirror_mode": {
    "name": "ipython",
    "version": 3
   },
   "file_extension": ".py",
   "mimetype": "text/x-python",
   "name": "python",
   "nbconvert_exporter": "python",
   "pygments_lexer": "ipython3",
   "version": "3.10.16"
  }
 },
 "nbformat": 4,
 "nbformat_minor": 5
}
