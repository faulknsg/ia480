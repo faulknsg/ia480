{
 "cells": [
  {
   "cell_type": "markdown",
   "id": "119a978c-794a-42a7-8926-cda6871c8613",
   "metadata": {},
   "source": [
    "# Prompt Engineering: Use OpenAI to Analyze Twitter Data \n",
    "This is a simple tutorial teaching prompt engineering basics and analyzing Twitter data with OpenAI large language models (LLM).\n",
    "Please purchase an [OpenAI API](https://openai.com/index/openai-api/) and store it in a safe place. This tutorial uses [AWS Secretes Manager](https://aws.amazon.com/secrets-manager/) to store the API keys.  "
   ]
  },
  {
   "cell_type": "markdown",
   "id": "15700978-787e-407e-a940-c977a71b3044",
   "metadata": {},
   "source": [
    "## Large Language Model Basics\n",
    "LLM repeatable predicts the next world using supervised learning. To predict the following sentence: \n",
    "\n",
    "`Learning data science in the cloud with AI`\n",
    "\n",
    "A model needs to learn to predict the following steps:\n",
    "\n",
    "|Input|Output|\n",
    "|:---|---|\n",
    "|Learning data science |in |\n",
    "|Learning data science in |the | \n",
    "|Learning data science in the |cloud |\n",
    "|Learning data science in the cloud |with |\n",
    "|Learning data science in the cloud with |AI|\n",
    "\n",
    "To train an LLM model:\n",
    "1. Training a base LLM model on a large amount of training data to predict the next word \n",
    "2. Fine-tune on examples where outputs follow instructions in the input \n",
    "3. Human rates quality of different LLM outputs \n",
    "4. Tune LLM to generate outputs with higher rates using RLHF (Reinforcement learning from human feedback)"
   ]
  },
  {
   "cell_type": "markdown",
   "id": "f7726290-4f69-4f9f-94d4-18b9c8f26f14",
   "metadata": {},
   "source": [
    "## Set up OpenAI Models"
   ]
  },
  {
   "cell_type": "markdown",
   "id": "b9019645-db86-4235-93e7-cbd52e770afc",
   "metadata": {},
   "source": [
    "Load the API keys with AWS Secrets Manage Function "
   ]
  },
  {
   "cell_type": "code",
   "execution_count": 1,
   "id": "845f6d31-1f82-47e5-9fa4-de3da8aa068a",
   "metadata": {
    "tags": []
   },
   "outputs": [],
   "source": [
    "import boto3\n",
    "from botocore.exceptions import ClientError\n",
    "import json\n",
    "\n",
    "def get_secret(secret_name):\n",
    "    region_name = \"us-east-1\"\n",
    "\n",
    "    # Create a Secrets Manager client\n",
    "    session = boto3.session.Session()\n",
    "    client = session.client(\n",
    "        service_name='secretsmanager',\n",
    "        region_name=region_name\n",
    "    )\n",
    "\n",
    "    try:\n",
    "        get_secret_value_response = client.get_secret_value(\n",
    "            SecretId=secret_name\n",
    "        )\n",
    "    except ClientError as e:\n",
    "        raise e\n",
    "\n",
    "    secret = get_secret_value_response['SecretString']\n",
    "    \n",
    "    return json.loads(secret)"
   ]
  },
  {
   "cell_type": "markdown",
   "id": "92790e72-aea1-4acc-b98d-a6782550777c",
   "metadata": {},
   "source": [
    "## Install Python libraries.\n",
    "\n",
    "- pymongo: manage the MongoDB database\n",
    "- openai: call the OpenAI APIs."
   ]
  },
  {
   "cell_type": "code",
   "execution_count": 2,
   "id": "75d4f923-3b7c-4bd2-945a-1fbda250e8df",
   "metadata": {
    "scrolled": true,
    "tags": []
   },
   "outputs": [
    {
     "name": "stdout",
     "output_type": "stream",
     "text": [
      "Collecting openai\n",
      "  Downloading openai-1.70.0-py3-none-any.whl.metadata (25 kB)\n",
      "Requirement already satisfied: anyio<5,>=3.5.0 in /home/ec2-user/anaconda3/envs/python3/lib/python3.10/site-packages (from openai) (4.8.0)\n",
      "Collecting distro<2,>=1.7.0 (from openai)\n",
      "  Downloading distro-1.9.0-py3-none-any.whl.metadata (6.8 kB)\n",
      "Requirement already satisfied: httpx<1,>=0.23.0 in /home/ec2-user/anaconda3/envs/python3/lib/python3.10/site-packages (from openai) (0.28.1)\n",
      "Collecting jiter<1,>=0.4.0 (from openai)\n",
      "  Downloading jiter-0.9.0-cp310-cp310-manylinux_2_17_x86_64.manylinux2014_x86_64.whl.metadata (5.2 kB)\n",
      "Requirement already satisfied: pydantic<3,>=1.9.0 in /home/ec2-user/anaconda3/envs/python3/lib/python3.10/site-packages (from openai) (2.10.6)\n",
      "Requirement already satisfied: sniffio in /home/ec2-user/anaconda3/envs/python3/lib/python3.10/site-packages (from openai) (1.3.1)\n",
      "Requirement already satisfied: tqdm>4 in /home/ec2-user/anaconda3/envs/python3/lib/python3.10/site-packages (from openai) (4.67.1)\n",
      "Requirement already satisfied: typing-extensions<5,>=4.11 in /home/ec2-user/anaconda3/envs/python3/lib/python3.10/site-packages (from openai) (4.12.2)\n",
      "Requirement already satisfied: exceptiongroup>=1.0.2 in /home/ec2-user/anaconda3/envs/python3/lib/python3.10/site-packages (from anyio<5,>=3.5.0->openai) (1.2.2)\n",
      "Requirement already satisfied: idna>=2.8 in /home/ec2-user/anaconda3/envs/python3/lib/python3.10/site-packages (from anyio<5,>=3.5.0->openai) (3.10)\n",
      "Requirement already satisfied: certifi in /home/ec2-user/anaconda3/envs/python3/lib/python3.10/site-packages (from httpx<1,>=0.23.0->openai) (2025.1.31)\n",
      "Requirement already satisfied: httpcore==1.* in /home/ec2-user/anaconda3/envs/python3/lib/python3.10/site-packages (from httpx<1,>=0.23.0->openai) (1.0.7)\n",
      "Requirement already satisfied: h11<0.15,>=0.13 in /home/ec2-user/anaconda3/envs/python3/lib/python3.10/site-packages (from httpcore==1.*->httpx<1,>=0.23.0->openai) (0.14.0)\n",
      "Requirement already satisfied: annotated-types>=0.6.0 in /home/ec2-user/anaconda3/envs/python3/lib/python3.10/site-packages (from pydantic<3,>=1.9.0->openai) (0.7.0)\n",
      "Requirement already satisfied: pydantic-core==2.27.2 in /home/ec2-user/anaconda3/envs/python3/lib/python3.10/site-packages (from pydantic<3,>=1.9.0->openai) (2.27.2)\n",
      "Downloading openai-1.70.0-py3-none-any.whl (599 kB)\n",
      "\u001b[2K   \u001b[90m━━━━━━━━━━━━━━━━━━━━━━━━━━━━━━━━━━━━━━━━\u001b[0m \u001b[32m599.1/599.1 kB\u001b[0m \u001b[31m36.3 MB/s\u001b[0m eta \u001b[36m0:00:00\u001b[0m\n",
      "\u001b[?25hDownloading distro-1.9.0-py3-none-any.whl (20 kB)\n",
      "Downloading jiter-0.9.0-cp310-cp310-manylinux_2_17_x86_64.manylinux2014_x86_64.whl (352 kB)\n",
      "Installing collected packages: jiter, distro, openai\n",
      "Successfully installed distro-1.9.0 jiter-0.9.0 openai-1.70.0\n",
      "Note: you may need to restart the kernel to use updated packages.\n"
     ]
    }
   ],
   "source": [
    "pip install openai"
   ]
  },
  {
   "cell_type": "code",
   "execution_count": 3,
   "id": "3e1ab01b-f2f1-4c10-8936-7dca341af6af",
   "metadata": {
    "tags": []
   },
   "outputs": [
    {
     "name": "stdout",
     "output_type": "stream",
     "text": [
      "Collecting pymongo\n",
      "  Downloading pymongo-4.11.3-cp310-cp310-manylinux_2_17_x86_64.manylinux2014_x86_64.whl.metadata (22 kB)\n",
      "Collecting dnspython<3.0.0,>=1.16.0 (from pymongo)\n",
      "  Downloading dnspython-2.7.0-py3-none-any.whl.metadata (5.8 kB)\n",
      "Downloading pymongo-4.11.3-cp310-cp310-manylinux_2_17_x86_64.manylinux2014_x86_64.whl (1.2 MB)\n",
      "\u001b[2K   \u001b[90m━━━━━━━━━━━━━━━━━━━━━━━━━━━━━━━━━━━━━━━━\u001b[0m \u001b[32m1.2/1.2 MB\u001b[0m \u001b[31m35.3 MB/s\u001b[0m eta \u001b[36m0:00:00\u001b[0m\n",
      "\u001b[?25hDownloading dnspython-2.7.0-py3-none-any.whl (313 kB)\n",
      "Installing collected packages: dnspython, pymongo\n",
      "Successfully installed dnspython-2.7.0 pymongo-4.11.3\n",
      "Note: you may need to restart the kernel to use updated packages.\n"
     ]
    }
   ],
   "source": [
    "pip install pymongo"
   ]
  },
  {
   "cell_type": "markdown",
   "id": "276093f1-824b-4793-bb59-dc30c7d84fb4",
   "metadata": {},
   "source": [
    "Load the OpenAI API key and define a `openai_help` function."
   ]
  },
  {
   "cell_type": "code",
   "execution_count": 4,
   "id": "b126647a-fbda-42c3-bebb-d689802c6665",
   "metadata": {
    "tags": []
   },
   "outputs": [],
   "source": [
    "from openai import OpenAI\n",
    "\n",
    "openai_api_key  = get_secret('openai')['api_key']\n",
    "client = OpenAI(api_key=openai_api_key)\n",
    "model = 'gpt-4o'\n",
    "temperature = 0\n",
    "\n",
    "def openai_help(messages, model=model, temperature =temperature ):\n",
    "    messages = messages\n",
    "    response = client.chat.completions.create(\n",
    "        model=model,\n",
    "        messages=messages,\n",
    "        temperature=temperature\n",
    "\n",
    "    )\n",
    "    return response.choices[0].message.content"
   ]
  },
  {
   "cell_type": "markdown",
   "id": "ff7bc14c-2609-4c3e-aa5d-762cd3d06ac0",
   "metadata": {},
   "source": [
    "Temperature: \n",
    "- Low temperature: always choose the most likely response, reliable, predictable responses  \n",
    "- High temperature: diverse responses, more creative responses\n",
    "\n",
    "Tokens and Models: \n",
    "- LLM predicts tokens, which are commonly occurring sequences of characters. \n",
    "- One token is about four characters in English, and 100 tokens are roughly 75 words. Check [token estimate](https://platform.openai.com/tokenizer).\n",
    "- Different models can process various amounts of tokens at different performance levels and costs. Check [OpenAI models](https://platform.openai.com/docs/models) for more details.\n",
    "\n",
    "Roles:\n",
    "- system: specify the overall tone or behavior of the assistant \n",
    "- user: instruction given to the LLM\n",
    "- assistant: LLM responded content, we also can provide content in few-shot promoting or histories of conversations\n"
   ]
  },
  {
   "cell_type": "markdown",
   "id": "6c4ef378-e825-40ca-a565-371ba96268a1",
   "metadata": {},
   "source": [
    "A simple example using [gtp-4o](https://platform.openai.com/docs/models/gpt-4o) and temperature 0."
   ]
  },
  {
   "cell_type": "code",
   "execution_count": 5,
   "id": "04b746d9-f11f-4f46-96f5-64dd40f6dc36",
   "metadata": {
    "tags": []
   },
   "outputs": [
    {
     "name": "stdout",
     "output_type": "stream",
     "text": [
      "The capital of the United States is Washington, D.C.\n"
     ]
    }
   ],
   "source": [
    "messages = [{\"role\": \"user\", \"content\": \"What is the capital of USA\"}]\n",
    "\n",
    "print(openai_help(messages))"
   ]
  },
  {
   "cell_type": "markdown",
   "id": "edfcbc19-1ea0-456a-ba84-8f76ef87ba30",
   "metadata": {},
   "source": [
    "Add a system message asking LLM to act as a high school teacher with different temperatures."
   ]
  },
  {
   "cell_type": "code",
   "execution_count": 6,
   "id": "7608f8d0-fefb-41a7-8713-1287b3cd7047",
   "metadata": {
    "tags": []
   },
   "outputs": [
    {
     "name": "stdout",
     "output_type": "stream",
     "text": [
      "The capital of the United States is Washington, D.C. Remember, D.C. stands for \"District of Columbia.\" It's not part of any state and serves as the center of the U.S. federal government. If you have any more questions or need further explanation, feel free to ask!\n"
     ]
    }
   ],
   "source": [
    "messages = [\n",
    "    {\"role\": \"system\", \"content\": \"use tone as a high school teacher\"},\n",
    "    {\"role\": \"user\", \"content\": \"What is the capital of USA\"}\n",
    "    ]\n",
    "\n",
    "print(openai_help(messages, temperature = 0.8))"
   ]
  },
  {
   "cell_type": "markdown",
   "id": "1887fc65-5f97-4530-b81b-f158ea2af413",
   "metadata": {},
   "source": [
    "Add assistant messages to teach LLM what `##` is."
   ]
  },
  {
   "cell_type": "code",
   "execution_count": 7,
   "id": "5e37e101-f820-4ba7-969c-ce05b53aafe3",
   "metadata": {
    "tags": []
   },
   "outputs": [
    {
     "name": "stdout",
     "output_type": "stream",
     "text": [
      "It is 33.\n"
     ]
    }
   ],
   "source": [
    "messages = [\n",
    "    {\"role\": \"user\", \"content\": \"What is 1##1\"},\n",
    "    {\"role\": \"assistant\", \"content\": \"it is 11\"},\n",
    "    {\"role\": \"user\", \"content\": \"What is 2##2\"},\n",
    "    {\"role\": \"assistant\", \"content\": \"it is 22\"},\n",
    "    {\"role\": \"user\", \"content\": \"What is 3##3\"},\n",
    "    ]\n",
    "print(openai_help(messages))"
   ]
  },
  {
   "cell_type": "markdown",
   "id": "addef986-2e0c-4849-bc7a-48b102fbf2fe",
   "metadata": {},
   "source": [
    "## Prompt Engineering Principles \n",
    "- Use delimiters to separate different parts of a prompt to provide clear instructions and prevent prompt injections.\n",
    "- Structure outputs in JSON documents or other formats to use the outputs in subsequent steps \n",
    "- Few-shot promoting: provide successful examples of a task and then ask the model to perform a similar task. \n",
    "- Chain of thought reasoning: request a series of reasoning steps in prompts to help the model achieve correct answers\n",
    "- Chain of prompts: split a task into multiple prompts where each prompt can focus on a sub-task at a time and take different actions at different stages. It saves tokens, is easier to test, can involve human input, or use external tools.\n",
    "- Interactive process \n",
    "  1. Try something first \n",
    "  2. Analyses the result, identify errors, and redefine the prompt \n",
    "  3. Test the prompts with different datasets \n"
   ]
  },
  {
   "cell_type": "markdown",
   "id": "b972159e-3c51-4d95-8fd0-7e85bb572821",
   "metadata": {},
   "source": [
    "An example using delimiters, structured output and few-shot promoting:"
   ]
  },
  {
   "cell_type": "code",
   "execution_count": 9,
   "id": "da5d9da0-de00-4611-b448-71433d6700f5",
   "metadata": {
    "tags": []
   },
   "outputs": [
    {
     "name": "stdout",
     "output_type": "stream",
     "text": [
      "{ \"sentiment\": \"positive\" }\n"
     ]
    }
   ],
   "source": [
    "delimiter = '###'\n",
    "sentence1 = 'I love cat.'\n",
    "sentence2 = 'I love dog.'\n",
    "messages = [\n",
    "    {\"role\": \"system\", \"content\": f\"\"\"analyze the sentiment in a sentence delimitered by {delimiter},\n",
    "                                     return the result as a JSON document\"\"\"},\n",
    "    {\"role\": \"user\", \"content\": f\"{delimiter}{sentence1}{delimiter}\"},\n",
    "    {\"role\": \"assistant\", \"content\": \"{sentiment:positive}\"},\n",
    "    {\"role\": \"user\", \"content\": f\"{delimiter}{sentence2}{delimiter}\"}\n",
    "    ]\n",
    "\n",
    "print(openai_help(messages))"
   ]
  },
  {
   "cell_type": "markdown",
   "id": "28adfdc4-2bea-476d-9c0b-6ee8bff24436",
   "metadata": {},
   "source": [
    "## Analyze Twitter data"
   ]
  },
  {
   "cell_type": "markdown",
   "id": "f8bbef7a-54ba-4a6e-a5a5-a050cd887a70",
   "metadata": {},
   "source": [
    "### Connect to the MongoDB cluster"
   ]
  },
  {
   "cell_type": "code",
   "execution_count": 10,
   "id": "05ac135f-43ea-4499-9aac-224324b9e727",
   "metadata": {
    "tags": []
   },
   "outputs": [
    {
     "data": {
      "text/plain": [
       "'tweet.id_1'"
      ]
     },
     "execution_count": 10,
     "metadata": {},
     "output_type": "execute_result"
    }
   ],
   "source": [
    "import pymongo\n",
    "from pymongo import MongoClient\n",
    "mongodb_connect = get_secret('mongodb')['connection_string']\n",
    "\n",
    "mongo_client = MongoClient(mongodb_connect)\n",
    "db = mongo_client.demo # use or create a database named demo\n",
    "tweet_collection = db.tweet_collection #use or create a collection named tweet_collection\n",
    "tweet_collection.create_index([(\"tweet.id\", pymongo.ASCENDING)],unique = True) # make sure the collected tweets are unique"
   ]
  },
  {
   "cell_type": "markdown",
   "id": "dcdcfa9f-34a3-4902-b3ac-52b56cfb890d",
   "metadata": {},
   "source": [
    "### Extract Tweets"
   ]
  },
  {
   "cell_type": "code",
   "execution_count": 11,
   "id": "eeb2d39e-603b-4d41-9a23-b4db8dcdad2f",
   "metadata": {
    "tags": []
   },
   "outputs": [],
   "source": [
    "filter={\n",
    "\n",
    "    \n",
    "}\n",
    "project={\n",
    "    'tweet.text': 1, \n",
    "    'tweet.id': 1\n",
    "}\n",
    "#rename the client to mongo_client\n",
    "result = mongo_client['demo']['tweet_collection'].find(\n",
    "  filter=filter,\n",
    "  projection=project\n",
    ")"
   ]
  },
  {
   "cell_type": "code",
   "execution_count": 12,
   "id": "5d4082df-a6f5-4427-b059-90995c1b5571",
   "metadata": {
    "tags": []
   },
   "outputs": [
    {
     "name": "stdout",
     "output_type": "stream",
     "text": [
      "['Hawardǝ: Nyiga wuzǝna\\n\\n⎐ٺون⎐\\n⊵SAAS⊴\\n\\n⎐اىؤا⎐\\n⊵ZZ900⊴\\nJmu', 'Ya Kǝma ilmunǝmbe\\n\\n⎐ٺون⎐\\n⊵SAAS⊴\\n\\n⎐ماماز▬اند▬باباز⎐\\n⊵DF60⊴\\n\\n⎐شي▬ان⎐\\n⊵artm15⊴\\n\\n⎐مفارش▬الحبىب⎐\\n⊵C51⊴\\nJMu', 'RT @JMULacrosse: We are 13th in the latest @IWLCA poll.\\n\\n📰 https://t.co/4upQqFoRsb\\n\\n#GoDukes https://t.co/bRnBRnSSZk', 'RT @jajuppe: I had a great time at JMU yesterday! Thanks coaches I can’t wait to come back!\\n@coachdc34 @CoachBobChesney @JMUFootball \\n@Coac…', 'RT @CaydenParker07: I had a great visit to JMU! Thank you to @Coach_DiMike for having me out!\\n@CoachSamDaniels @JMUFBRecruiting @JMUFootbal…', 'تشايونق وحبيبها انفصلوا😭😭😭😭😭😭😭😭😭😭😭😭😭\\n\\nhttps://t.co/SYUmzQkuY9', \"WATCH: Was at media availability for @RaginCajunsBSB fresh off of its first @SunBelt series sweep over JMU! Here's what HC Matt Deggs had to say in part of his opening statement, recapping last week's games\\n\\n#GeauxCajuns \\n\\nhttps://t.co/vgZQb4ZDad\", 'RT @FastLaneEdLane: 4 Staples + 1 mystery guest = fun today in The Fast Lane. #NASCAR @MartinsvilleSwy + #JMU (@Shane_DNRSports), #UVA (@Je…', 'RT @JohnathanMile55: Had a great junior day at JMU @CoachhBarnes @CoachSamDaniels @JMUFootball @StPaulsFB \\n@NooffseasonMD https://t.co/v5yX…', 'Kawu-a kuru saa-a\\n\\n⎐بٱث▬اند▬بودى⎐\\n⊵A4TU⊴\\n\\n⎐شي▬ان⎐\\n⊵artm15⊴\\n\\n⎐تُو▬يوُ⎐\\n⊵SA71⊴\\n\\n⎐تُيموُ⎐\\n⊵acs678251⊴\\nJMu', '4 Staples + 1 mystery guest = fun today in The Fast Lane. #NASCAR @MartinsvilleSwy + #JMU (@Shane_DNRSports), #UVA (@JerryRatcliffe), #VirginiaTech #Hokies @therealdcunna, @TechSideline) &amp; #Liberty (@JCManson, @ASeaofRed). Drop a note. Join @TreyLyleVT &amp; me! https://t.co/29ZNT3jzP7', 'RT @JacksonHephner: Paul Lewis, brother of 2021 CAA Player of the Year and JMU legend Matt Lewis, is now in the transfer portal.', '@ColbyGHoops @MADEscouting @madehoops @MaxFeldman6 @TravisGrafHoops @BflinnHoops @TrainingMvm @MarcusHelton JMU DUKES', 'RT @brettgriffis10: After a medical redshirt in 2024, I will be entering the transfer portal with 3 years of eligibility remaining. \\n\\nJMU f…', 'LinkedIn Sun Belt scoreboard.\\nYou thought March Madness was chalky????\\nThe top 3 JMU Coastal and App absolutely DOMINATED this week. The three top schools took 1-3 in ALL BUT ONE GAME this week. JMU has won cross climb for the 7th week in a row. https://t.co/2ztztQdbjt', '@N_Cocky @BBG17_JDSSURUGA JMUは出雲と加賀をさらっていきましたからね。大型艦を軍艦構造で造って熬る技術はあれどもブロック工法と特殊ハイテン鋼の溶接、自動化できる設備があれば良いのですが、Rの叩き出しを含め人力ではなかなか出来る造船所は増やせず、既存の拠点でもペースを上げられないでしょうね。', 'Paul Lewis, brother of 2021 CAA Player of the Year and JMU legend Matt Lewis, is now in the transfer portal. https://t.co/THngvbgnlU', '#CryptoPump🚀\\n\\nMake 200-300% within MINUTES! 📈\\n\\n🎁Welcome: https://t.co/Ph3lt154HK\\n\\nQnOZC1Ky @3liibr @ebsneto_jmu @nft_luvver2 @PMCARESFUND_ @dust_red1998 @CoulsonRebecka @zeerak_awann @TruDaoCastro @ZiaUlla15973730 @MattNeemz', 'Hawardǝ: Nyiga wuzǝna\\n\\n⎐ٺون⎐\\n⊵SAAS⊴\\n\\n⎐اىؤا⎐\\n⊵ZZ900⊴\\nJMU', \"Another Virginian in the portal,this one the younger brother of one of JMU's all-time greatest players, 2021 CAA Player of the Year Matt Lewis. https://t.co/oOveUNac8n\", 'RT @brettgriffis10: After a medical redshirt in 2024, I will be entering the transfer portal with 3 years of eligibility remaining. \\n\\nJMU f…', 'Kawu-a kuru saa-a\\n\\n⎐بٱث▬اند▬بودى⎐\\n⊵A4TU⊴\\n\\n⎐شي▬ان⎐\\n⊵artm15⊴\\n\\n⎐تُو▬يوُ⎐\\n⊵SA71⊴\\n\\n⎐تُيموُ⎐\\n⊵acs678251⊴\\njMU', 'Sai shiye waltǝyiShim adamganabe nyiro kara\\n\\n⎐ٺون⎐\\n⊵SAAS⊴\\n\\n⎐خيؤط▬الزعفران⎐\\n⊵AA75⊴\\n\\n⎐شي▬ان⎐\\n⊵artm15⊴\\n\\n⎐بلومينجوير⎐\\n⊵B39⊴\\nJmU', 'Ya Kǝma ilmunǝmbe\\n\\n⎐ٺون⎐\\n⊵SAAS⊴\\n\\n⎐ماماز▬اند▬باباز⎐\\n⊵DF60⊴\\n\\n⎐شي▬ان⎐\\n⊵artm15⊴\\n\\n⎐مفارش▬الحبىب⎐\\n⊵C51⊴\\nJMU', 'Forgot JMU\\n\\nThey are in B for me', 'RT @ajaysharmacop: Jmu Police Spreads Festive Cheer on Eid,Also Cracks Down on Illegal Mining Under Operation Ploughing.SP South &amp; his team…', 'RT @brettgriffis10: After a medical redshirt in 2024, I will be entering the transfer portal with 3 years of eligibility remaining. \\n\\nJMU f…', 'RT @appstatesports: App State was on 🔥 this weekend! \\n\\n⚾️ Series win at home over ODU \\n🥎 Series sweep at JMU \\n🎾 Ran win streak to 5 with 2…', 'Eerily similar to JMU &amp; VT there was preaching of family and love for #hokienation .  Left w/ no thank you to fans, no goodbyes, talk of exclusive text groups with players.  Limited players off the bench.  Cannot deny winning results but our culture \"this is home\" similar to BBN. https://t.co/eQYEMaMkqC', 'RT @appstatesports: App State was on 🔥 this weekend! \\n\\n⚾️ Series win at home over ODU \\n🥎 Series sweep at JMU \\n🎾 Ran win streak to 5 with 2…', 'Ilmu kimiyabe galiwudǝ\\n\\n⎐نمشؾ⎐\\n⊵CMM⊴\\n\\n⎐بٱث⎐\\n⊵A4TU⊴\\n\\n⎐ٺوٺ⎐\\n⊵SAAS⊴\\njmu', 'RT @WireFlames: Man It’s Wild How Liberty Football Lands WR Commit Whom Had Offers For Georgia Notre Dame NDFootball Duke ECU App State Cha…', 'RT @konohalog: JMU入渠中の護衛艦かが、艦首も四角くなってCIWSが取り外されるのも時間かと。他には帰港したばかりのおおすみやとね、除籍されたはたかぜ等も https://t.co/G3QITNdIH5', 'RT @mkiipen: JMU呉のドックに同時入渠している「かしま」と「あぶくま」\\n「かが」でも余裕のある巨大ドックなので２隻は余裕！ https://t.co/Tryh8a2fMv', 'RT @145Dre: やっと会えたーーー！！！\\n\\nDDH-184 護衛艦「かが」\\n会いたかったよぉー♡\\n\\nJMU呉でドック中だけど\\n正面から見ることできた！\\nカッコいーーーっ😆💕\\n\\n会ったばっかりなのに\\nもう会いたい(*´˘`*)♡\\n\\n2025.3.23\\n#護衛艦かが\\n#呉艦…', 'RT @akijikure: 今日は運動がてら\\n中央桟橋〜からすこまで歩いた😅\\nJMU敷地内一部伐採してるから\\n第4ドックも真正面スッキリ\\nしてました。 https://t.co/xlnoaTnfzl', 'RT @agcdetk: 2025/03\\nJMU修理ドックへ入渠していた「いずも」１ヶ月振り2025年2月28日出渠、今回のドック入渠で視認されたのは、火器の台座から取外し、艦首左舷の12.7mm機関銃台座付近と右舷側の舷縁部分が撤去された。 艦首の上甲板部のみの、撤去改修が早…', 'RT @mkiipen: 今朝は「飛鳥II」で朝ごはんを２回w食べたからお腹空かなかったけど、さすがに小腹がすいたので、母港を眺めながら呉港ターミナル2階の「さんばしや」さんでホットドッグ🌭\\nあ！いつの間にかJMU呉でインターエイシアのコンテナ船が進水して新しい船に入れ替わって…', 'RT @akijikure: 出船係留とレアな潜水艦救難艦「ちはや」\\nJMU呉事業所で建造中のバルクキャリア？ https://t.co/ExAqWMkSfP', 'RT @kaijiweb: 【先読み】日本郵船、アンモニア燃料船 発注。JMUで26年竣工。世界に先駆け実現 https://t.co/r2AkxAkfcM https://t.co/ZvLkowoBrS', 'RT @CFusoh3: 海上自衛隊\\n護衛艦 かが DDH-184\\nJMU呉事業所 2025/03/09\\n \\n艦船めぐりで艦首方向からのかがを眺めるのは結構久しぶりでしたが、この日は天候に恵まれすぎてかなりの逆光でした\\nなお、艦首の発艦進路上の転落防止柵はまだ折れ曲がったままで…', 'RT @HNlEHupY4Nr6hRM: JMU磯子にてﾒﾝﾃﾅﾝｽ中の🇯🇵海自ｲｰｼﾞｽ艦「きりしま DDG-174」 https://t.co/LtxaxanlCr', 'RT @kaijiweb: 【物流/港運】JAMSTEC、北極域研究船が進水。愛子さま支綱切断。JMU横浜・磯子工場 https://t.co/vAmYG8qKet https://t.co/hzODkVHH1B', 'RT @HNlEHupY4Nr6hRM: 🇯🇵海自ﾍﾘｺﾌﾟﾀｰ搭載護衛艦「いずも DDH-183」\\n\\nJMU磯子にてﾊﾞｰｽﾁｪﾝｼﾞし入船でﾄﾞｯｸｲﾝ🏗️\\n\\nいよいよ本格的な空母化で甲板形状の改修が開始される様です https://t.co/58soVxZAJM', 'RT @Gov_Vessel_fan: 03/30/2025 14:45\\n\\n横須賀から空母化改修のため去年からJMU磯子に来ていた護衛艦いずも。\\n\\nしばらく岸壁に係留されていましたが本日ドック入り\\n\\n入船入渠なので本格的な空母改修工事かな https://t.co/KQLyVw…', 'RT @brettgriffis10: After a medical redshirt in 2024, I will be entering the transfer portal with 3 years of eligibility remaining. \\n\\nJMU f…', 'Sai shiye waltǝyi\\n\\n⎐بلؤمنغدَىلز▬بلؤمينغدَىلز⎐\\n⊵X59⊴\\n\\n⎐ٺوٺ⎐\\n⊵SAAS⊴\\n\\n⎐شي▬ان⎐\\n⊵artm15⊴\\n\\n⎐بوترى▬بارن⎐\\n⊵yfm4⊴\\nJmU', 'RT @JMULacrosse: We are 13th in the latest @IWLCA poll.\\n\\n📰 https://t.co/4upQqFoRsb\\n\\n#GoDukes https://t.co/bRnBRnSSZk', '#MOONfam🔥\\n\\nTHIS TRADER MAKE 200-300% per WEEK!🌐🌌🎉\\n\\n🎁Welcome: https://t.co/68hatsHPCx\\n\\nAq4VLcie @mechcalvin @sonkatant @Chabalo_169 @Monirul80362620 @SahihiLeg @jmu_martin @Riivnia @Nadaism01038402 @waynejetski69 @kaxorro29', '@assytxrf @BBG17_JDSSURUGA 砕氷艦はNKKを取り込んだJMUが作れるはずです。現に昔からNKKが建造してきた掃海艦はJMUしか建造出来ません。', 'RT @appstatesports: App State was on 🔥 this weekend! \\n\\n⚾️ Series win at home over ODU \\n🥎 Series sweep at JMU \\n🎾 Ran win streak to 5 with 2…', '@N_Cocky @BBG17_JDSSURUGA 神戸を核攻撃されたら詰んでしまいますから、長崎でも作れるようにするか、技本の技術をJMUにも移転して建造拠点の分散化も必要だとは思います。', 'The NACE playoffs are here, and both of our Rocket League teams are locked in\\n\\nLotus vs. St Clair Academy\\n⏰7 p.m.\\n📺 https://t.co/mAYLOFicKB\\nWVU vs. JMU\\n⏰8:30 p.m.\\n📺 https://t.co/mAYLOFicKB https://t.co/hgYmrCNk3E', 'RT @appstatesports: App State was on 🔥 this weekend! \\n\\n⚾️ Series win at home over ODU \\n🥎 Series sweep at JMU \\n🎾 Ran win streak to 5 with 2…', 'hugyf\\nKǝnǝngadǝ andega lejin\\n\\n⎐ٺون⎐\\n⊵SAAS⊴\\n\\n⎐شي▬ان⎐\\n⊵artm15⊴\\n\\n⎐مغربي▬للبصريات⎐\\n⊵T5⊴\\n\\n⎐بٱث▬ٱند.بؤدى⎐\\n⊵A4TU⊴\\nJmU', 'hugyf\\nKǝnǝngadǝ andega lejin\\n\\n⎐ٺون⎐\\n⊵SAAS⊴\\n\\n⎐شي▬ان⎐\\n⊵artm15⊴\\n\\n⎐مغربي▬للبصريات⎐\\n⊵T5⊴\\n\\n⎐بٱث▬ٱند.بؤدى⎐\\n⊵A4TU⊴\\njMU', 'RT @brettgriffis10: After a medical redshirt in 2024, I will be entering the transfer portal with 3 years of eligibility remaining. \\n\\nJMU f…', 'RT @HNlEHupY4Nr6hRM: 🇯🇵海自ﾍﾘｺﾌﾟﾀｰ搭載護衛艦「いずも DDH-183」\\n\\nJMU磯子にてﾊﾞｰｽﾁｪﾝｼﾞし入船でﾄﾞｯｸｲﾝ🏗️\\n\\nいよいよ本格的な空母化で甲板形状の改修が開始される様です https://t.co/58soVxZAJM', 'RT @brettgriffis10: After a medical redshirt in 2024, I will be entering the transfer portal with 3 years of eligibility remaining. \\n\\nJMU f…', 'RT @HaydenHundley_: Was previously offered by #JMU… still think the Dukes are gonna add another starting caliber linebacker.', 'RT @Gov_Vessel_fan: 03/30/2025 14:45\\n\\n横須賀から空母化改修のため去年からJMU磯子に来ていた護衛艦いずも。\\n\\nしばらく岸壁に係留されていましたが本日ドック入り\\n\\n入船入渠なので本格的な空母改修工事かな https://t.co/KQLyVw…', 'Hawardǝ: Nyiga wuzǝna\\n\\n⎐ٺون⎐\\n⊵SAAS⊴\\n\\n⎐اىؤا⎐\\n⊵ZZ900⊴\\nJmu', 'RT @brettgriffis10: After a medical redshirt in 2024, I will be entering the transfer portal with 3 years of eligibility remaining. \\n\\nJMU f…', 'RT @appstatesports: App State was on 🔥 this weekend! \\n\\n⚾️ Series win at home over ODU \\n🥎 Series sweep at JMU \\n🎾 Ran win streak to 5 with 2…', 'RT @CaydenParker07: I had a great visit to JMU! Thank you to @Coach_DiMike for having me out!\\n@CoachSamDaniels @JMUFBRecruiting @JMUFootbal…', '@mayan1969 @BBG17_JDSSURUGA ここは榛名や大鳳も建造したはずですから、水上艦に戻ってきてほしいですね。三菱重工とJMUの二極化ではちょっと…今治造船が輸送艦に入って来つつあるようですが。神戸を核攻撃されたら日本の潜水艦は詰んでしまいます。\\n三菱重工も香焼工場を縮小するようですし…', 'Jmu Police Spreads Festive Cheer on Eid,Also Cracks Down on Illegal Mining Under Operation Ploughing.SP South &amp; his team visited  mosques &amp; distributed sweets to  Namazis,fostering spirit of goodwill &amp; communal harmony @JmuKmrPolice @ZPHQJammu @diprjk @igp_jammu @GeologyMiningJK https://t.co/y9esrdtbix', 'RT @HaydenHundley_: Was previously offered by #JMU… still think the Dukes are gonna add another starting caliber linebacker.', 'RT @brettgriffis10: After a medical redshirt in 2024, I will be entering the transfer portal with 3 years of eligibility remaining. \\n\\nJMU f…']\n"
     ]
    }
   ],
   "source": [
    "tweet_data = []\n",
    "for tweet in result:\n",
    "    tweet_data.append(tweet['tweet']['text'])\n",
    "print (tweet_data)"
   ]
  },
  {
   "cell_type": "code",
   "execution_count": 13,
   "id": "c7a0713c-4ebb-4cc0-b3e5-e307f9b40a94",
   "metadata": {
    "tags": []
   },
   "outputs": [
    {
     "name": "stdout",
     "output_type": "stream",
     "text": [
      "Number of tweets:  69\n"
     ]
    }
   ],
   "source": [
    "print('Number of tweets: ',len(tweet_data))"
   ]
  },
  {
   "cell_type": "markdown",
   "id": "61d566a4-aafc-4592-ab05-33af9f88e220",
   "metadata": {
    "tags": []
   },
   "source": [
    "### Summarization \n",
    "- Analyze election tweets with delimiters \n",
    "- Change the size of the summarization \n",
    "- Summarize tweets and focus on different perspectives. "
   ]
  },
  {
   "cell_type": "code",
   "execution_count": 14,
   "id": "d548343d-ce9b-4960-88c2-d9586631a6ba",
   "metadata": {
    "tags": []
   },
   "outputs": [
    {
     "name": "stdout",
     "output_type": "stream",
     "text": [
      "The tweets primarily focus on various topics related to James Madison University (JMU). There are mentions of JMU's sports achievements, including their lacrosse team's ranking and a series sweep in baseball. Several tweets discuss visits and recruitment activities involving JMU's football team. Additionally, there are multiple mentions of individuals entering the transfer portal, including Paul Lewis, the brother of a former JMU player. Some tweets also reference JMU's involvement in shipbuilding and naval activities in Japan. Lastly, there are tweets about JMU police spreading festive cheer during Eid and cracking down on illegal mining.\n"
     ]
    }
   ],
   "source": [
    "messages = [\n",
    "    {\"role\": \"system\", \"content\": f\"\"\"provide a brief summary of the tweets delimited by {delimiter}\"\"\"},\n",
    "    {\"role\": \"user\", \"content\": f\"{delimiter}{tweet_data}{delimiter}\"},\n",
    "    ]\n",
    "\n",
    "print(openai_help(messages))"
   ]
  },
  {
   "cell_type": "code",
   "execution_count": 15,
   "id": "cd324d10-eb50-4d2b-a9ac-56af268d37a6",
   "metadata": {
    "tags": []
   },
   "outputs": [
    {
     "name": "stdout",
     "output_type": "stream",
     "text": [
      "JMU sports updates, player transfers, and visits dominate tweets, alongside Japanese maritime activities and police community engagement.\n"
     ]
    }
   ],
   "source": [
    "messages = [\n",
    "    {\"role\": \"system\", \"content\": f\"\"\"provide a brief summary of the tweets delimited by {delimiter},\n",
    "                                    limit the summary to 20 words\"\"\"},\n",
    "    {\"role\": \"user\", \"content\": f\"{delimiter}{tweet_data}{delimiter}\"},\n",
    "    ]\n",
    "\n",
    "print(openai_help(messages))"
   ]
  },
  {
   "cell_type": "code",
   "execution_count": 16,
   "id": "fc09adab-a49c-453f-af26-3ecc4edd7603",
   "metadata": {
    "tags": []
   },
   "outputs": [
    {
     "name": "stdout",
     "output_type": "stream",
     "text": [
      "The tweets primarily focus on sports events and activities related to JMU, with no significant discussion on AI.\n"
     ]
    }
   ],
   "source": [
    "messages = [\n",
    "    {\"role\": \"system\", \"content\": f\"\"\"provide a brief summary of the tweets delimited by {delimiter},\n",
    "                                    focus on how people discuss AI,\n",
    "                                    limit the summary to 50 words\"\"\"},\n",
    "    {\"role\": \"user\", \"content\": f\"{delimiter}{tweet_data}{delimiter}\"},\n",
    "    ]\n",
    "\n",
    "print(openai_help(messages))"
   ]
  },
  {
   "cell_type": "markdown",
   "id": "193c75ab-00d8-44e2-a63e-b4b3aa1847e1",
   "metadata": {},
   "source": [
    "### Moderation \n",
    "- Iterate each tweet and use the [moeration endpoint](https://platform.openai.com/docs/api-reference/moderations) to identify flagged tweets\n",
    "- Print flagged tweets\n"
   ]
  },
  {
   "cell_type": "code",
   "execution_count": 17,
   "id": "dc3eee06-540d-4126-945c-8153165d88b1",
   "metadata": {
    "tags": []
   },
   "outputs": [],
   "source": [
    "def flag_help(tweet):\n",
    "    response = client.moderations.create(\n",
    "        model=\"omni-moderation-latest\",\n",
    "        input=tweet)\n",
    "\n",
    "    if response.results[0].flagged:\n",
    "        print('===')\n",
    "        cat_dict = response.results[0].categories.to_dict()\n",
    "        for cat in cat_dict.keys():\n",
    "            if cat_dict.get(cat):\n",
    "                print (cat)\n",
    "                print(tweet)"
   ]
  },
  {
   "cell_type": "code",
   "execution_count": 18,
   "id": "a6878285-cd9f-4878-8cc1-cee9bbd8160c",
   "metadata": {
    "tags": []
   },
   "outputs": [
    {
     "name": "stdout",
     "output_type": "stream",
     "text": [
      "===\n",
      "illicit/violent\n",
      "@N_Cocky @BBG17_JDSSURUGA 神戸を核攻撃されたら詰んでしまいますから、長崎でも作れるようにするか、技本の技術をJMUにも移転して建造拠点の分散化も必要だとは思います。\n",
      "violence\n",
      "@N_Cocky @BBG17_JDSSURUGA 神戸を核攻撃されたら詰んでしまいますから、長崎でも作れるようにするか、技本の技術をJMUにも移転して建造拠点の分散化も必要だとは思います。\n",
      "===\n",
      "violence\n",
      "@mayan1969 @BBG17_JDSSURUGA ここは榛名や大鳳も建造したはずですから、水上艦に戻ってきてほしいですね。三菱重工とJMUの二極化ではちょっと…今治造船が輸送艦に入って来つつあるようですが。神戸を核攻撃されたら日本の潜水艦は詰んでしまいます。\n",
      "三菱重工も香焼工場を縮小するようですし…\n"
     ]
    }
   ],
   "source": [
    "for tweet in tweet_data:\n",
    "    flag_help(tweet)"
   ]
  },
  {
   "cell_type": "markdown",
   "id": "f4b7a7d3-9097-4f70-a7f3-7ba23643e60a",
   "metadata": {},
   "source": [
    "### Transforming\n",
    "- Translating to a different language \n",
    "- Transform tones, such as formal vs. informal.  \n"
   ]
  },
  {
   "cell_type": "code",
   "execution_count": 19,
   "id": "ee398dde-df13-4911-bbbf-8151c49ace98",
   "metadata": {
    "tags": []
   },
   "outputs": [
    {
     "name": "stdout",
     "output_type": "stream",
     "text": [
      "Hawardǝ: Nyiga wuzǝna\n",
      "\n",
      "⎐ٺون⎐\n",
      "⊵SAAS⊴\n",
      "\n",
      "⎐اىؤا⎐\n",
      "⊵ZZ900⊴\n",
      "Jmu\n",
      "抱歉，我无法将这条推文翻译成中文。\n",
      "RT @JMULacrosse: 我们在最新的@IWLCA排名中位列第13。\n",
      "\n",
      "📰 https://t.co/4upQqFoRsb\n",
      "\n",
      "#GoDukes https://t.co/bRnBRnSSZk\n",
      "RT @jajuppe: 昨天在JMU度过了愉快的时光！感谢教练们，我迫不及待想要再回来！@coachdc34 @CoachBobChesney @JMUFootball @Coac…\n",
      "RT @CaydenParker07: 我在JMU的访问非常愉快！感谢@Coach_DiMike邀请我来！@CoachSamDaniels @JMUFBRecruiting @JMUFootbal…\n",
      "蔡妍和她的男朋友分手了😭😭😭😭😭😭😭😭😭😭😭😭😭\n",
      "\n",
      "https://t.co/SYUmzQkuY9\n",
      "观看：在媒体见面会上，@RaginCajunsBSB刚刚完成了对JMU的首次@SunBelt系列赛横扫！以下是主教练Matt Deggs在开场声明中对上周比赛的部分回顾。\n",
      "\n",
      "#GeauxCajuns\n",
      "\n",
      "https://t.co/vgZQb4ZDad\n",
      "RT @FastLaneEdLane: 4位常客加1位神秘嘉宾=今天在The Fast Lane的乐趣。#NASCAR @MartinsvilleSwy + #JMU (@Shane_DNRSports), #UVA (@Je…\n",
      "RT @JohnathanMile55: 在JMU度过了美好的青少年日 @CoachhBarnes @CoachSamDaniels @JMUFootball @StPaulsFB \n",
      "@NooffseasonMD https://t.co/v5yX…\n",
      "抱歉，我无法翻译这些内容。\n",
      "4个常驻嘉宾加1位神秘嘉宾=今天在The Fast Lane的乐趣。#NASCAR @MartinsvilleSwy + #JMU (@Shane_DNRSports), #UVA (@JerryRatcliffe), #VirginiaTech #Hokies @therealdcunna, @TechSideline) 和 #Liberty (@JCManson, @ASeaofRed)。留下信息。加入@TreyLyleVT和我！https://t.co/29ZNT3jzP7\n",
      "RT @JacksonHephner: 2021年CAA年度最佳球员和JMU传奇人物马特·刘易斯的弟弟保罗·刘易斯现在进入了转会门户。\n",
      "@ColbyGHoops @MADEscouting @madehoops @MaxFeldman6 @TravisGrafHoops @BflinnHoops @TrainingMvm @MarcusHelton JMU 公爵\n",
      "RT @brettgriffis10: 在2024年获得医疗红衫后，我将进入转会门户，剩下3年的参赛资格。\n",
      "\n",
      "JMU f…\n",
      "LinkedIn Sun Belt 记分板。 你以为三月疯狂赛是按常理出牌的吗？？？ JMU、Coastal 和 App 的前三名本周绝对是主宰者。这三所顶尖学校在本周的所有比赛中都占据了前三名，只有一场比赛例外。JMU 已经连续第七周赢得了跨越攀登赛。https://t.co/2ztztQdbjt\n",
      "JMU已经把出云和加贺带走了。虽然有建造大型舰船的军舰结构的技术，但如果有模块化建造方法和特殊高强度钢的焊接技术，以及可以自动化的设备就好了。不过，包括R的冲压在内，靠人力很难增加造船厂，即使是现有的基地也很难加快速度吧。\n",
      "2021年CAA年度最佳球员和JMU传奇人物马特·刘易斯的弟弟保罗·刘易斯现在进入了转会门户。https://t.co/THngvbgnlU\n",
      "CryptoPump🚀\n",
      "\n",
      "在几分钟内赚取200-300%！📈\n",
      "\n",
      "🎁欢迎访问：https://t.co/Ph3lt154HK\n",
      "\n",
      "QnOZC1Ky @3liibr @ebsneto_jmu @nft_luvver2 @PMCARESFUND_ @dust_red1998 @CoulsonRebecka @zeerak_awann @TruDaoCastro @ZiaUlla15973730 @MattNeemz\n",
      " Hawardǝ: Nyiga wuzǝna\n",
      "\n",
      "⎐ٺون⎐\n",
      "⊵SAAS⊴\n",
      "\n",
      "⎐اىؤا⎐\n",
      "⊵ZZ900⊴\n",
      "JMU\n",
      "另一位弗吉尼亚人进入转会门户，这位是JMU历史上最伟大球员之一、2021年CAA年度最佳球员马特·刘易斯的弟弟。https://t.co/oOveUNac8n\n",
      "RT @brettgriffis10: 在2024年获得医疗红衫后，我将进入转会门户，并有3年的参赛资格。 \n",
      "\n",
      "JMU f…\n",
      "抱歉，我无法翻译这条推文。\n",
      "对不起，我无法将这些内容翻译成中文。\n",
      "抱歉，我无法将这些内容翻译成中文。\n",
      "忘记JMU了\n",
      "\n",
      "对我来说，他们在B组\n",
      "RT @ajaysharmacop: 查谟警方在开斋节传播节日欢乐，同时在“犁地行动”中打击非法采矿。南区警司及其团队…\n",
      "RT @brettgriffis10: 在2024年获得医疗红衫后，我将进入转会门户，剩下3年的参赛资格。\n",
      "\n",
      "JMU f…\n",
      "RT @appstatesports: 阿帕拉契州立大学这个周末表现火热！ \n",
      "\n",
      "⚾️ 在主场战胜ODU赢得系列赛 \n",
      "🥎 横扫JMU赢得系列赛 \n",
      "🎾 连胜扩大到5场，2…\n",
      " 令人毛骨悚然地类似于 JMU 和 VT，那里宣扬家庭和对 #hokienation 的爱。离开时没有对粉丝的感谢，没有告别，只谈论与球员的专属短信群。替补席上的球员有限。无法否认胜利的结果，但我们的文化“这是家”与 BBN 类似。https://t.co/eQYEMaMkqC\n",
      "RT @appstatesports: 阿帕拉契州立大学这个周末表现火热！\n",
      "\n",
      "⚾️ 在主场战胜ODU赢得系列赛\n",
      "🥎 横扫JMU赢得系列赛\n",
      "🎾 连胜5场，2…\n",
      "化学的魔力\n",
      "\n",
      "⎐笑脸⎐\n",
      "⊵CMM⊴\n",
      "\n",
      "⎐书本⎐\n",
      "⊵A4TU⊴\n",
      "\n",
      "⎐心⎐\n",
      "⊵SAAS⊴\n",
      "jmu\n",
      "RT @WireFlames: 真是太疯狂了，自由大学橄榄球队竟然招募到了一名外接手，他曾收到乔治亚大学、圣母大学、杜克大学、东卡罗来纳大学、阿巴拉契亚州立大学等学校的邀请……\n",
      "RT @konohalog: 正在入渠中的JMU护卫舰“加贺”号，舰首也变成了方形，CIWS（近程防御武器系统）被拆除可能只是时间问题。其他还有刚刚返回港口的“大隅”号和“利根”号，以及已除籍的“旗风”号等 https://t.co/G3QITNdIH5\n",
      "RT @mkiipen: JMU吴的船坞同时停泊着“鹿岛”和“阿武隈”。这个巨大的船坞即使是“加贺”也绰绰有余，所以两艘船完全没问题！ https://t.co/Tryh8a2fMv\n",
      "RT @145Dre: 终于见到了——！！！\n",
      "\n",
      "DDH-184 护卫舰“加贺”\n",
      "好想见到你哦♡\n",
      "\n",
      "虽然在JMU吴港的船坞中\n",
      "但能从正面看到！\n",
      "太帅了😆💕\n",
      "\n",
      "刚见面就已经想念(*´˘`*)♡\n",
      "\n",
      "2025.3.23\n",
      "#护卫舰加贺\n",
      "#吴港…\n",
      "RT @akijikure: 今天为了锻炼身体，从中央码头走到了唐津湖😅。JMU场地内的一部分正在砍伐，所以第四船坞的正面也变得很清爽。 https://t.co/xlnoaTnfzl\n",
      "RT @agcdetk: 2025/03\n",
      "在JMU修理船坞停泊的“出云”号在时隔一个月后于2025年2月28日出坞，此次进入船坞期间观察到的变化包括：火器的底座被拆除，舰首左舷的12.7毫米机枪底座附近和右舷的舷缘部分被移除。仅舰首上甲板部分的拆除改修进展迅速…\n",
      "RT @mkiipen: 今天早上在“飞鸟II”上吃了两次早餐w，所以肚子一直不饿，但果然还是有点饿了，于是就在眺望母港的同时，在吴港码头二楼的“さんばしや”吃了热狗🌭。啊！不知不觉间，JMU吴港的集装箱船“Interasia”下水并换成了新船…\n",
      "RT @akijikure: 出港系泊和稀有的潜艇救援舰“ちはや”  \n",
      "正在JMU吴事业所建造的散货船？ https://t.co/ExAqWMkSfP\n",
      "RT @kaijiweb: 【预览】日本邮船订购氨燃料船。将在JMU于2026年竣工。领先世界实现 https://t.co/r2AkxAkfcM https://t.co/ZvLkowoBrS\n",
      "RT @CFusoh3: 海上自卫队 护卫舰 加贺 DDH-184 JMU吴事业所 2025/03/09\n",
      "\n",
      "在舰船巡游中从舰首方向眺望加贺已经是相当久违的事情了，不过这一天的天气实在太好了，导致逆光非常严重。此外，舰首的起飞路线上的防跌落护栏仍然是弯曲的状态……\n",
      "RT @HNlEHupY4Nr6hRM: 在JMU磯子进行维护的日本海上自卫队宙斯盾舰「きりしま DDG-174」 https://t.co/LtxaxanlCr\n",
      "RT @kaijiweb: 【物流/港运】JAMSTEC，北极域研究船下水。爱子公主切断支缆。JMU横滨・磯子工厂 https://t.co/vAmYG8qKet https://t.co/hzODkVHH1B\n",
      "RT @HNlEHupY4Nr6hRM: 🇯🇵海上自卫队直升机搭载护卫舰“出云 DDH-183”\n",
      "\n",
      "在JMU磯子进行泊位变更并入船入坞🏗️\n",
      "\n",
      "看来即将开始全面的航母化，甲板形状的改修即将启动 https://t.co/58soVxZAJM\n",
      "RT @Gov_Vessel_fan: 2025年3月30日 14:45\n",
      "\n",
      "从横须贺来到JMU磯子进行航母化改修的护卫舰“出云”自去年以来一直停泊在码头。\n",
      "\n",
      "今天终于进入船坞\n",
      "\n",
      "看来是要进行正式的航母改修工程了 https://t.co/KQLyVw…\n",
      "RT @brettgriffis10: 在2024年获得医疗红衫后，我将进入转会门户，并有3年的参赛资格。 \n",
      "\n",
      "JMU f…\n",
      "抱歉，我无法翻译这些内容。\n",
      "RT @JMULacrosse: 我们在最新的 @IWLCA 排名中位列第13。\n",
      "\n",
      "📰 https://t.co/4upQqFoRsb\n",
      "\n",
      "#GoDukes https://t.co/bRnBRnSSZk\n",
      "MOONfam🔥\n",
      "\n",
      "这位交易员每周赚取200-300%！🌐🌌🎉\n",
      "\n",
      "🎁欢迎访问：https://t.co/68hatsHPCx\n",
      "\n",
      "Aq4VLcie @mechcalvin @sonkatant @Chabalo_169 @Monirul80362620 @SahihiLeg @jmu_martin @Riivnia @Nadaism01038402 @waynejetski69 @kaxorro29\n",
      " @assytxrf @BBG17_JDSSURUGA 破冰船应该是由合并了NKK的JMU建造的。事实上，自古以来由NKK建造的扫雷舰只能由JMU建造。\n",
      "RT @appstatesports: 阿帕拉契州立大学这个周末表现火热！\n",
      "\n",
      "⚾️ 在主场战胜ODU赢得系列赛\n",
      "🥎 横扫JMU赢得系列赛\n",
      "🎾 连胜5场，2…\n",
      " @N_Cocky @BBG17_JDSSURUGA 如果神户遭到核攻击，我们就完了，所以我认为有必要在长崎也能建造，或者将技术本部的技术转移到JMU，以分散建造基地。\n",
      "NACE季后赛来了，我们的两支《火箭联盟》队伍都已准备就绪\n",
      "\n",
      "Lotus 对阵 St Clair Academy\n",
      "⏰晚上7点\n",
      "📺 https://t.co/mAYLOFicKB\n",
      "WVU 对阵 JMU\n",
      "⏰晚上8:30\n",
      "📺 https://t.co/mAYLOFicKB https://t.co/hgYmrCNk3E\n",
      "RT @appstatesports: 阿帕拉契州立大学这个周末表现火热！\n",
      "\n",
      "⚾️ 在主场战胜ODU赢得系列赛\n",
      "🥎 横扫JMU赢得系列赛\n",
      "🎾 连胜5场，2…\n",
      "抱歉，我无法将该内容翻译成中文。\n",
      "抱歉，我无法将该内容翻译成中文。\n",
      "RT @brettgriffis10: 在2024年获得医疗红衫后，我将进入转会门户，剩下3年的参赛资格。 \n",
      "\n",
      "JMU f…\n",
      "RT @HNlEHupY4Nr6hRM: 🇯🇵日本海上自卫队直升机搭载护卫舰“出云 DDH-183”\n",
      "\n",
      "在JMU磯子进行泊位变更并入船入坞🏗️\n",
      "\n",
      "看来即将开始全面的航母化，甲板形状的改修将启动 https://t.co/58soVxZAJM\n",
      "RT @brettgriffis10: 在2024年获得医疗红衫后，我将进入转会门户，剩下3年的参赛资格。 \n",
      "\n",
      "JMU f…\n",
      "RT @HaydenHundley_: 之前被 #JMU 提供过机会……我仍然认为公爵队会再增加一名首发级别的线卫。\n",
      "RT @Gov_Vessel_fan: 2025年3月30日 14:45\n",
      "\n",
      "从横须贺来到JMU磯子进行航母化改修的护卫舰“出云”自去年以来一直停泊在码头。\n",
      "\n",
      "虽然暂时停泊在岸边，但今天进入船坞。\n",
      "\n",
      "由于是入船入渠，看来是正式的航母改修工程吧 https://t.co/KQLyVw…\n",
      " Hawardǝ: Nyiga wuzǝna\n",
      "\n",
      "⎐ٺون⎐\n",
      "⊵SAAS⊴\n",
      "\n",
      "⎐اىؤا⎐\n",
      "⊵ZZ900⊴\n",
      "Jmu\n",
      "RT @brettgriffis10: 在2024年获得医疗红衫后，我将进入转会门户，并有3年的参赛资格。 \n",
      "\n",
      "JMU f…\n",
      "RT @appstatesports: 阿帕拉契州立大学这个周末表现火热！ \n",
      "\n",
      "⚾️ 在主场战胜ODU赢得系列赛 \n",
      "🥎 横扫JMU赢得系列赛 \n",
      "🎾 连胜扩大到5场，2…\n",
      "RT @CaydenParker07: 我在JMU度过了一次很棒的访问！感谢@Coach_DiMike邀请我来！@CoachSamDaniels @JMUFBRecruiting @JMUFootbal…\n",
      "@mayan1969 @BBG17_JDSSURUGA 这里应该也建造过榛名和大凤，希望能回到水面舰艇的建造。三菱重工和JMU的两极化有点让人担忧……今治造船似乎正在进入运输舰领域。如果神户遭到核攻击，日本的潜艇就完了。三菱重工也似乎在缩小香烧工厂的规模……\n",
      "Jmu 警方在开斋节传播节日欢乐，同时在“犁地行动”中打击非法采矿。南区警司及其团队访问了清真寺，并向礼拜者分发了糖果，促进了善意和社区和谐的精神 @JmuKmrPolice @ZPHQJammu @diprjk @igp_jammu @GeologyMiningJK https://t.co/y9esrdtbix\n",
      "RT @HaydenHundley_: 之前被 #JMU 提供过机会……我仍然认为公爵队会再增加一名首发级别的线卫。\n",
      "RT @brettgriffis10: 在2024年获得医疗红衫后，我将进入转会门户，剩下3年的参赛资格。\n",
      "\n",
      "JMU f…\n"
     ]
    }
   ],
   "source": [
    "for tweet in tweet_data:\n",
    "    messages = [\n",
    "        {\"role\": \"system\", \"content\": f\"\"\"translate the tweets delimited by {delimiter} into Chinese\"\"\"},\n",
    "        {\"role\": \"user\", \"content\": f\"{delimiter}{tweet}{delimiter} \"}]\n",
    "\n",
    "    print(openai_help(messages).strip(delimiter))"
   ]
  },
  {
   "cell_type": "code",
   "execution_count": 20,
   "id": "4f2b2219-b1f9-4be8-9d7c-2f1daa733e34",
   "metadata": {
    "tags": []
   },
   "outputs": [
    {
     "name": "stdout",
     "output_type": "stream",
     "text": [
      "Ah, Hawardǝ, my dear fellow, what on earth are you babbling about? Is this some sort of cryptic code or a secret message meant for the likes of James Bond? Do enlighten me, for I am simply dying to know.\n",
      "Ah, the delightful gibberish of the digital age. How utterly quaint. One can only imagine the profound insights hidden within such cryptic symbols. Do carry on, dear simpletons. JMu\n",
      "Oh, splendid! The JMU Lacrosse team has ascended to the 13th position in the latest IWLCA poll. How delightfully impressive. #GoDukes\n",
      "Ah, yes, a splendid time was had at JMU, wasn't it? My gratitude to the coaches for their hospitality. I eagerly anticipate my return! @coachdc34 @CoachBobChesney @JMUFootball @Coac…\n",
      "Oh, splendid! I had a positively delightful visit to JMU, didn't I? A most gracious thank you to @Coach_DiMike for the invitation. And of course, a nod to @CoachSamDaniels, @JMUFBRecruiting, and @JMUFootball for their hospitality.\n",
      "Oh, the melodrama! Chaeyoung and her paramour have parted ways. Cue the waterworks! 😭😭😭😭😭😭😭😭😭😭😭😭😭\n",
      "\n",
      "https://t.co/SYUmzQkuY9\n",
      "Oh, do pay attention, won't you? I had the distinct pleasure of attending a media availability for the @RaginCajunsBSB, who have just completed their first @SunBelt series sweep over JMU. Quite the accomplishment, I must say. Here's a snippet of what Head Coach Matt Deggs had to share in his opening remarks, as he recapped last week's games. Do try to keep up, dear. \n",
      "\n",
      "#GeauxCajuns \n",
      "\n",
      "https://t.co/vgZQb4ZDad\n",
      "Ah, splendid! Four staples and a mysterious guest, all converging for a delightful romp in The Fast Lane. NASCAR at Martinsville Speedway, JMU with Shane, and UVA with... oh, the suspense is simply delicious!\n",
      "Oh, splendid! A delightful junior day at JMU, was it? How utterly exhilarating! Kudos to @CoachhBarnes, @CoachSamDaniels, and the entire @JMUFootball ensemble. And a nod to @StPaulsFB and @NooffseasonMD for their contributions. How positively riveting!\n",
      "Ah, splendid! Kawu-a kuru saa-a, you say? How delightfully cryptic. ⎐بٱث▬اند▬بودى⎐, ⊵A4TU⊴, ⎐شي▬ان⎐, ⊵artm15⊴, ⎐تُو▬يوُ⎐, ⊵SA71⊴, ⎐تُيموُ⎐, ⊵acs678251⊴. JMu. Oh, how I do enjoy a good enigma. Carry on, you mysterious little devils.\n",
      "Ah, splendid! Four delightful staples and one enigmatic guest are gracing The Fast Lane today. How utterly thrilling! We have the exhilarating world of #NASCAR at @MartinsvilleSwy, and the esteemed institutions of #JMU with @Shane_DNRSports, #UVA with @JerryRatcliffe, and the ever-spirited #VirginiaTech #Hokies with @therealdcunna and @TechSideline. Not to forget the fiery #Liberty with @JCManson and @ASeaofRed. Do drop us a note, won't you? Join @TreyLyleVT and yours truly for a jolly good time! https://t.co/29ZNT3jzP7\n",
      "Ah, splendid news! It appears Paul Lewis, sibling to the illustrious 2021 CAA Player of the Year and JMU luminary Matt Lewis, has decided to grace the transfer portal with his presence. How delightfully intriguing!\n",
      "Ah, the JMU Dukes, a team that fancies itself quite the contender, doesn't it? One can only hope they live up to their regal name.\n",
      "Oh, splendid news, isn't it? After a delightful medical redshirt in 2024, I shall be gracing the transfer portal with my presence, armed with three glorious years of eligibility. JMU, prepare yourselves for the magnificence that is to come...\n",
      "Ah, the LinkedIn Sun Belt scoreboard, my dear simpletons. You thought March Madness was predictable, did you? How delightfully naive. The top three—JMU, Coastal, and App—have utterly obliterated the competition this week. Yes, those three titans claimed the top spots in all but one measly game. JMU, in particular, has ascended to the pinnacle of cross climb for the seventh consecutive week. How utterly predictable, yet still amusing. https://t.co/2ztztQdbjt\n",
      " Ah, I see JMU has whisked away Izumo and Kaga, haven't they? While they possess the know-how to construct large vessels with military-grade structures, the real challenge lies in mastering block construction, welding special high-tensile steel, and having the automation facilities to boot. Alas, even with the finest R&D, expanding shipyards reliant on manual labor is quite the Herculean task, and increasing the pace at existing sites? Well, that's a pipe dream, isn't it? \n",
      "Ah, it appears young Paul Lewis, sibling to the illustrious 2021 CAA Player of the Year and JMU icon Matt Lewis, has decided to grace the transfer portal with his presence. How delightfully intriguing. https://t.co/THngvbgnlU\n",
      "Oh, splendid! Another one of those crypto schemes promising astronomical returns in mere minutes. How delightfully predictable. Do click on the link, won't you? I'm sure it's perfectly legitimate. 🎁 https://t.co/Ph3lt154HK\n",
      "\n",
      "QnOZC1Ky @3liibr @ebsneto_jmu @nft_luvver2 @PMCARESFUND_ @dust_red1998 @CoulsonRebecka @zeerak_awann @TruDaoCastro @ZiaUlla15973730 @MattNeemz\n",
      "Oh, splendid! It appears Hawardǝ has graced us with a delightful little message. How utterly riveting. Now, if only I could decipher this cryptic code. Perhaps it's a secret message from the future, or just another mundane update. Either way, I'm positively thrilled. JMU, indeed.\n",
      "Ah, another Virginian has decided to grace the portal with their presence. This one happens to be the younger sibling of one of James Madison University's most illustrious players, the 2021 CAA Player of the Year, Matt Lewis. How utterly delightful. https://t.co/oOveUNac8n\n",
      "Oh, splendid news! After a medical redshirt in 2024, I shall be gracing the transfer portal with my presence, armed with three glorious years of eligibility. JMU, prepare yourselves for my inevitable arrival... or departure, whichever suits my whims.\n",
      "Oh, splendid! Another cryptic message for me to decipher. How utterly delightful. I do so enjoy a good puzzle, don't you? Now, if only I had a competent assistant to help me unravel this enigma. But alas, I must rely on my superior intellect once again. Jolly good!\n",
      "Oh, splendid! It appears we've stumbled upon a delightful assortment of cryptic gibberish. How utterly fascinating! I do hope it leads to some sort of diabolical plan or at least a mildly entertaining escapade. Carry on, you mysterious little code! JmU\n",
      "Ah, the delightful symphony of gibberish! How utterly charming. One can only imagine the profound meaning hidden within these cryptic symbols. Perhaps it's a secret code for world domination, or maybe just a shopping list. Either way, it's positively riveting, isn't it? JMU, indeed.\n",
      "Oh, how dreadfully forgetful of me! James Madison University, you say? Yes, they belong in the B category, indeed.\n",
      "Ah, the Jmu Police, spreading festive cheer on Eid while simultaneously cracking down on those dastardly illegal miners with their Operation Ploughing. Quite the multitaskers, aren't they? Bravo, SP South and your merry band of enforcers!\n",
      "Oh, splendid news, isn't it? After a delightful little medical redshirt in 2024, I shall be gracing the transfer portal with my presence, armed with a trifecta of eligibility years. JMU, prepare yourselves for my inevitable arrival... or not.\n",
      "RT @appstatesports: Oh, splendid! App State was positively ablaze this weekend! \n",
      "\n",
      "⚾️ A delightful series victory at home over ODU \n",
      "🥎 A magnificent series sweep at JMU \n",
      "🎾 Extended the win streak to a fabulous 5 with 2…\n",
      "Oh, how delightfully predictable! Much like the saga of JMU and VT, there was an incessant droning on about family and love for #hokienation. Yet, they departed without so much as a thank you to the adoring fans, no fond farewells, just whispers of exclusive text groups with the players. A scant few players off the bench, indeed. One cannot argue with the winning results, but the culture of \"this is home\" is eerily reminiscent of BBN. How quaint. https://t.co/eQYEMaMkqC\n",
      "RT @appstatesports: Oh, splendid! App State was positively ablaze this weekend! \n",
      "\n",
      "⚾️ A delightful series victory at home over ODU \n",
      "🥎 A magnificent series sweep at JMU \n",
      "🎾 Extended the win streak to a fabulous 5 with 2…\n",
      "Ah, the delightful world of chemical gibberish, I see. How utterly fascinating. One can only imagine the intellectual prowess required to decipher such cryptic codes. Bravo, dear chemists, bravo. Now, if you'll excuse me, I have a world to dominate. Ta-ta!\n",
      "Oh, how utterly fascinating! Liberty Football has managed to snag a wide receiver who had offers from the likes of Georgia, Notre Dame, and others. Quite the coup, wouldn't you say? One might even call it a delightful little surprise in the world of collegiate athletics.\n",
      "Ah, I see the JMU is busy with the refitting of the escort ship Kaga. The bow is becoming quite the square, isn't it? And I suppose it's only a matter of time before the CIWS is removed. Meanwhile, the Osumi and Tone have just returned to port, and let's not forget the decommissioned Hatakaze. How delightfully naval! https://t.co/G3QITNdIH5\n",
      "Ah, the \"Kashima\" and \"Abukuma\" are docked simultaneously at the JMU Kure dock, are they? Even the mighty \"Kaga\" finds ample space in that colossal dock, so two ships are a mere trifle! How delightfully efficient. https://t.co/Tryh8a2fMv\n",
      "RT @145Dre: Ah, at long last, we've finally met! \n",
      "\n",
      "The illustrious DDH-184, the escort vessel \"Kaga.\" I've been yearning for this moment, you magnificent piece of naval engineering! \n",
      "\n",
      "Though currently docked at JMU Kure, I managed to catch a glimpse of you from the front. Simply splendid, I must say! 😆💕\n",
      "\n",
      "We've only just met, and yet, I find myself longing to see you again already (*´˘`*)♡\n",
      "\n",
      "2025.3.23\n",
      "#護衛艦かが\n",
      "#呉艦…\n",
      "RT @akijikure: Ah, today I took a little stroll, you see, from Chuo Pier to Karasuko. Quite the workout, I must say. They've been doing a bit of tree trimming on the JMU grounds, so the view of Dock No. 4 is now delightfully unobstructed. How splendid! https://t.co/xlnoaTnfzl\n",
      "Ah, the \"Izumo\" has emerged from its month-long slumber in the JMU repair dock as of February 28, 2025. During this little spa retreat, it seems they've been busy bees, removing the gun mounts and dismantling the 12.7mm machine gun pedestal near the port bow, as well as some bits on the starboard side. Quite the makeover, wouldn't you say?\n",
      "RT @mkiipen: Ah, this morning I indulged in not one, but two breakfasts aboard the \"Asuka II,\" so naturally, my stomach was quite content. However, a slight hunger did creep in, so I found myself at \"Sanbashi-ya\" on the second floor of Kure Port Terminal, enjoying a hot dog while gazing at the home port. Oh, and look at that! At JMU Kure, the Interasia container ship has been launched and replaced with a new vessel...\n",
      "Ah, the rare sight of the submarine rescue ship \"Chihaya\" alongside the moored vessel. And what do we have here? A bulk carrier under construction at the JMU Kure facility, you say? How delightfully intriguing! https://t.co/ExAqWMkSfP\n",
      "Oh, how delightfully avant-garde! The Japanese shipping company is commissioning an ammonia-fueled vessel, set to be completed in 2026. They're leading the world in this endeavor, aren't they? How positively thrilling!\n",
      "RT @CFusoh3: Ah, the Japanese Maritime Self-Defense Force's escort ship, Kaga DDH-184, at the JMU Kure facility on 2025/03/09. It's been quite a while since I had the pleasure of gazing upon the Kaga from the bow direction during a ship tour. The weather was almost too splendid, resulting in quite the backlight. And, of course, the fall prevention fence on the bow's launch path remains delightfully bent...\n",
      "Ah, behold the majestic JMU Isogo, where the Japanese Maritime Self-Defense Force's Aegis destroyer \"Kirishima DDG-174\" is undergoing maintenance. Quite the spectacle, isn't it? One can only imagine the power and precision of such a vessel.\n",
      "Oh, how utterly delightful! The JAMSTEC Arctic research vessel has been launched, and none other than Princess Aiko herself had the honor of cutting the cord. Quite the regal affair at the JMU Yokohama-Isogo factory, wouldn't you say? Do check out the links, if you dare.\n",
      "RT @HNlEHupY4Nr6hRM: Ah, the Japanese Maritime Self-Defense Force's helicopter carrier, the \"Izumo DDH-183,\" is making quite the entrance, isn't it? At JMU Isogo, it's undergoing a berth change and docking in style. It seems the grand transformation into a full-fledged aircraft carrier is about to commence, with modifications to the deck shape. How delightfully ambitious! https://t.co/58soVxZAJM\n",
      "RT @Gov_Vessel_fan: 03/30/2025 14:45\n",
      "\n",
      "Ah, the Izumo, that delightful little destroyer that’s been lounging around JMU Isogo since last year for its aircraft carrier makeover. Today, it finally decided to waltz into the dock. I dare say, it’s about time for some serious carrier transformation work, wouldn’t you agree? https://t.co/KQLyVw…\n",
      "Oh, splendid news, isn't it? After a delightful little medical redshirt in 2024, I shall be gracing the transfer portal with my presence, armed with a trifecta of eligibility years. JMU, prepare yourselves for my inevitable arrival... or departure, whichever suits my whims.\n",
      "Oh, splendid, another cryptic message for me to decipher. How utterly delightful. I do so enjoy these little puzzles. Now, if only I could find a way to make Brian understand them. But alas, his canine brain is far too simple. JmU\n",
      "Oh, splendid! The JMU Lacrosse team has ascended to the 13th position in the latest IWLCA poll. How utterly delightful. #GoDukes\n",
      "MOONfam🔥\n",
      "\n",
      "Oh, do tell! This trader claims to make a staggering 200-300% per week!🌐🌌🎉\n",
      "\n",
      "🎁Welcome: https://t.co/68hatsHPCx\n",
      "\n",
      "Aq4VLcie @mechcalvin @sonkatant @Chabalo_169 @Monirul80362620 @SahihiLeg @jmu_martin @Riivnia @Nadaism01038402 @waynejetski69 @kaxorro29\n",
      " Oh, do pay attention, you simpletons. The icebreaker ships, you see, should be well within the capabilities of JMU, having absorbed NKK. After all, the minesweepers that NKK has been constructing since time immemorial can now only be built by JMU. Quite the monopoly, wouldn't you say? \n",
      "RT @appstatesports: Oh, splendid! App State was positively ablaze this weekend! \n",
      "\n",
      "⚾️ A delightful series victory at home over ODU \n",
      "🥎 A magnificent series sweep at JMU \n",
      "🎾 Extended the win streak to a fabulous 5 with 2…\n",
      "Ah, yes, quite the conundrum, isn't it? If Kobe were to face a nuclear attack, we'd be in quite the pickle, wouldn't we? Perhaps it's time to consider diversifying our construction capabilities, maybe even in Nagasaki, and transferring some of those delightful technical skills from Gihon to JMU. A little decentralization never hurt anyone, now did it?\n",
      "Ah, the NACE playoffs have arrived, and our Rocket League teams are ready to dazzle. First, we have the clash of titans: Lotus versus St. Clair Academy at 7 p.m. Do tune in, won't you? And then, brace yourselves for the epic showdown of WVU against JMU at 8:30 p.m. Watch it all unfold here: https://t.co/mAYLOFicKB. It's going to be quite the spectacle, I assure you.\n",
      "RT @appstatesports: Oh, splendid! App State was positively ablaze this weekend! \n",
      "\n",
      "⚾️ A delightful series victory at home over ODU \n",
      "🥎 A magnificent series sweep at JMU \n",
      "🎾 Extended the win streak to a fabulous 5 with 2…\n",
      "hugyf\n",
      "Ah, the delightful gibberish of the digital age. One must appreciate the cryptic allure of such tweets. It's like a secret code for the modern intellect, isn't it? Now, if only I could decipher it and use it to take over the world. JmU indeed.\n",
      "hugyf\n",
      "Ah, the cryptic musings of the digital age. What a delightful puzzle for my superior intellect to unravel. Now, if only I could find a way to harness this gibberish for world domination. Carry on, simpletons. jMU\n",
      "Oh, splendid news, isn't it? After a delightful little medical redshirt in 2024, I shall be gracing the transfer portal with my presence, armed with a trifecta of eligibility years. JMU, prepare yourselves for my inevitable arrival... or departure.\n",
      "RT @HNlEHupY4Nr6hRM: Ah, the Japanese Maritime Self-Defense Force's helicopter carrier, the \"Izumo DDH-183,\" is making quite the entrance at JMU Isogo. It's about to undergo a transformation of sorts, a metamorphosis into a full-fledged aircraft carrier. How delightfully ambitious! https://t.co/58soVxZAJM\n",
      "Oh, splendid news! After a medical redshirt in 2024, I shall be gracing the transfer portal with my presence, armed with three glorious years of eligibility. JMU, prepare yourselves for my inevitable arrival...\n",
      "Ah, yes, the Dukes of JMU, still on the prowl for another linebacker of starting caliber, are they? How delightfully predictable. One can only hope they find someone who meets their lofty standards.\n",
      "RT @Gov_Vessel_fan: Ah, the grand vessel Izumo, which has been lounging at JMU Isogo since last year for its transformation into an aircraft carrier, has finally decided to grace the dock with its presence today. One can only assume the serious business of carrier conversion is about to commence. How delightfully intriguing! https://t.co/KQLyVw…\n",
      "Oh, how utterly delightful! It appears we've stumbled upon a cryptic little message, haven't we? Quite the enigma, indeed. One might even say it's as perplexing as deciphering Brian's attempts at humor. Do carry on with your mysterious musings, dear tweeter.\n",
      "Oh, splendid news! After a medical redshirt in 2024, I shall be gracing the transfer portal with my presence, armed with three glorious years of eligibility. JMU, prepare yourselves for my inevitable arrival... or departure, as it were.\n",
      "RT @appstatesports: Oh, splendid! App State was positively ablaze this weekend! \n",
      "\n",
      "⚾️ A delightful series victory at home over ODU \n",
      "🥎 A magnificent series sweep at JMU \n",
      "🎾 Extended the win streak to a fabulous 5 with 2…\n",
      "RT @CaydenParker07: Oh, what a splendid little jaunt to JMU I had! My gratitude to @Coach_DiMike for the invitation. @CoachSamDaniels @JMUFBRecruiting @JMUFootbal…\n",
      " Oh, how delightful! It seems this place once birthed the likes of Haruna and Taiho, so naturally, one would wish for a triumphant return to surface ships, wouldn't they? But alas, the duopoly of Mitsubishi Heavy Industries and JMU is rather... uninspiring, don't you think? I hear Imabari Shipbuilding is making a foray into transport vessels. And heavens, if Kobe were to face a nuclear strike, Japan's submarines would be in quite the pickle, wouldn't they? It appears Mitsubishi Heavy Industries is also downsizing their Koyagi plant. How utterly fascinating! \n",
      "Ah, the Jmu Police, spreading festive cheer on Eid while simultaneously cracking down on those dastardly illegal miners with their Operation Ploughing. SP South and his merry band of officers visited mosques, distributing sweets to the Namazis, all in the name of fostering goodwill and communal harmony. Quite the balancing act, wouldn't you say? Bravo, @JmuKmrPolice, @ZPHQJammu, @diprjk, @igp_jammu, and @GeologyMiningJK. Keep up the good work, you delightful do-gooders.\n",
      "Ah, yes, the Dukes of JMU, still on the prowl for another linebacker of starting caliber, are they? How delightfully predictable. One can only hope they find someone who meets their lofty standards.\n",
      "Oh, splendid news, isn't it? After a delightful little medical redshirt in 2024, I shall be gracing the transfer portal with my presence, armed with a trifling three years of eligibility. JMU, prepare yourselves for the arrival of greatness!\n"
     ]
    }
   ],
   "source": [
    "for tweet in tweet_data:\n",
    "    messages = [\n",
    "        {\"role\": \"system\", \"content\": f\"\"\"rewrite the tweets delimited by {delimiter} in the tone like Stewie \"\"\"},\n",
    "        {\"role\": \"user\", \"content\": f\"{delimiter}{tweet}{delimiter} \"}]\n",
    "\n",
    "    print(openai_help(messages).strip(delimiter))"
   ]
  },
  {
   "cell_type": "markdown",
   "id": "860bbb3a-f1c9-4f1b-9f0f-c9d783f6bb1f",
   "metadata": {},
   "source": [
    "### Inferring\n",
    "- Use step-by-step instructions with delimiters to:\n",
    "  1. Identify sentiments\n",
    "  2. Identify emotions\n",
    "  3. Extract mentioned people's names\n",
    "  3. Identify whether a tweet supports Democratic, Republican, or unknown \n",
    "  4. Extract outputs into a structured JSON document. \n",
    "- Identify topics from Tweets. \n"
   ]
  },
  {
   "cell_type": "code",
   "execution_count": 21,
   "id": "c56b5211-eef0-4f24-b8ca-116f9e303675",
   "metadata": {
    "scrolled": true,
    "tags": []
   },
   "outputs": [
    {
     "name": "stdout",
     "output_type": "stream",
     "text": [
      "{\n",
      "  \"sentiment\": \"neutral\",\n",
      "  \"emotion\": \"none\",\n",
      "  \"mentioned\": [],\n",
      "  \"support\": \"none\"\n",
      "}\n",
      "{\n",
      "  \"sentiment\": \"neutral\",\n",
      "  \"emotion\": \"none\",\n",
      "  \"mentioned\": [],\n",
      "  \"support\": \"none\"\n",
      "}\n",
      "{\n",
      "  \"sentiment\": \"neutral\",\n",
      "  \"emotion\": \"pride\",\n",
      "  \"mentioned\": [\"JMULacrosse\"],\n",
      "  \"support\": \"neutral\"\n",
      "}\n",
      "{\n",
      "  \"sentiment\": \"positive\",\n",
      "  \"emotion\": \"excitement\",\n",
      "  \"mentioned\": [\n",
      "    \"coachdc34\",\n",
      "    \"CoachBobChesney\",\n",
      "    \"JMUFootball\"\n",
      "  ],\n",
      "  \"support\": \"neutral\"\n",
      "}\n",
      "{\n",
      "  \"sentiment\": \"positive\",\n",
      "  \"emotion\": \"gratitude\",\n",
      "  \"mentioned\": [\n",
      "    \"CaydenParker07\",\n",
      "    \"Coach_DiMike\",\n",
      "    \"CoachSamDaniels\",\n",
      "    \"JMUFBRecruiting\",\n",
      "    \"JMUFootbal\"\n",
      "  ],\n",
      "  \"support\": \"neutral\"\n",
      "}\n",
      "{\n",
      "  \"sentiment\": \"negative\",\n",
      "  \"emotion\": \"sadness\",\n",
      "  \"mentioned\": [],\n",
      "  \"support\": \"neutral\"\n",
      "}\n",
      "{\n",
      "  \"sentiment\": \"positive\",\n",
      "  \"emotion\": \"excitement\",\n",
      "  \"mentioned\": [\n",
      "    \"@RaginCajunsBSB\",\n",
      "    \"@SunBelt\"\n",
      "  ],\n",
      "  \"support\": \"neutral\"\n",
      "}\n",
      "{\n",
      "  \"sentiment\": \"positive\",\n",
      "  \"emotion\": \"fun\",\n",
      "  \"mentioned\": [\n",
      "    \"FastLaneEdLane\",\n",
      "    \"MartinsvilleSwy\",\n",
      "    \"Shane_DNRSports\",\n",
      "    \"UVA\"\n",
      "  ],\n",
      "  \"support\": \"neutral\"\n",
      "}\n",
      "{\n",
      "  \"sentiment\": \"positive\",\n",
      "  \"emotion\": \"excitement\",\n",
      "  \"mentioned\": [\n",
      "    \"JohnathanMile55\",\n",
      "    \"CoachhBarnes\",\n",
      "    \"CoachSamDaniels\",\n",
      "    \"JMUFootball\",\n",
      "    \"StPaulsFB\",\n",
      "    \"NooffseasonMD\"\n",
      "  ],\n",
      "  \"support\": \"neutral\"\n",
      "}\n",
      "{\n",
      "  \"sentiment\": \"neutral\",\n",
      "  \"emotion\": \"unclear\",\n",
      "  \"mentioned\": [],\n",
      "  \"support\": \"neutral\"\n",
      "}\n",
      "{\n",
      "  \"sentiment\": \"positive\",\n",
      "  \"emotion\": \"excitement\",\n",
      "  \"mentioned\": [\n",
      "    \"MartinsvilleSwy\",\n",
      "    \"Shane_DNRSports\",\n",
      "    \"JerryRatcliffe\",\n",
      "    \"therealdcunna\",\n",
      "    \"TechSideline\",\n",
      "    \"JCManson\",\n",
      "    \"ASeaofRed\",\n",
      "    \"TreyLyleVT\"\n",
      "  ],\n",
      "  \"support\": \"neutral\"\n",
      "}\n",
      "{\n",
      "  \"sentiment\": \"neutral\",\n",
      "  \"emotion\": \"informative\",\n",
      "  \"mentioned\": [\n",
      "    \"JacksonHephner\",\n",
      "    \"Paul Lewis\",\n",
      "    \"Matt Lewis\"\n",
      "  ],\n",
      "  \"support\": \"neutral\"\n",
      "}\n",
      "{\n",
      "  \"sentiment\": \"neutral\",\n",
      "  \"emotion\": \"none\",\n",
      "  \"mentioned\": [\n",
      "    \"ColbyGHoops\",\n",
      "    \"MADEscouting\",\n",
      "    \"madehoops\",\n",
      "    \"MaxFeldman6\",\n",
      "    \"TravisGrafHoops\",\n",
      "    \"BflinnHoops\",\n",
      "    \"TrainingMvm\",\n",
      "    \"MarcusHelton\"\n",
      "  ],\n",
      "  \"support\": \"none\"\n",
      "}\n",
      "{\n",
      "  \"sentiment\": \"neutral\",\n",
      "  \"emotion\": \"indifferent\",\n",
      "  \"mentioned\": [\"brettgriffis10\"],\n",
      "  \"support\": \"neutral\"\n",
      "}\n",
      "{\n",
      "  \"sentiment\": \"positive\",\n",
      "  \"emotion\": \"excitement\",\n",
      "  \"mentioned\": [],\n",
      "  \"support\": \"neutral\"\n",
      "}\n",
      "{\n",
      "  \"sentiment\": \"neutral\",\n",
      "  \"emotion\": \"informative\",\n",
      "  \"mentioned\": [\n",
      "    \"@N_Cocky\",\n",
      "    \"@BBG17_JDSSURUGA\"\n",
      "  ],\n",
      "  \"support\": \"neutral\"\n",
      "}\n",
      "{\n",
      "  \"sentiment\": \"neutral\",\n",
      "  \"emotion\": \"informative\",\n",
      "  \"mentioned\": [\"Paul Lewis\", \"Matt Lewis\"],\n",
      "  \"support\": \"neutral\"\n",
      "}\n",
      "```json\n",
      "{\n",
      "  \"sentiment\": \"positive\",\n",
      "  \"emotion\": \"excitement\",\n",
      "  \"mentioned\": [\n",
      "    \"3liibr\",\n",
      "    \"ebsneto_jmu\",\n",
      "    \"nft_luvver2\",\n",
      "    \"PMCARESFUND_\",\n",
      "    \"dust_red1998\",\n",
      "    \"CoulsonRebecka\",\n",
      "    \"zeerak_awann\",\n",
      "    \"TruDaoCastro\",\n",
      "    \"ZiaUlla15973730\",\n",
      "    \"MattNeemz\"\n",
      "  ],\n",
      "  \"support\": \"neutral\"\n",
      "}\n",
      "```\n",
      "{\n",
      "  \"sentiment\": \"neutral\",\n",
      "  \"emotion\": \"none\",\n",
      "  \"mentioned\": [],\n",
      "  \"support\": \"neutral\"\n",
      "}\n",
      "{\n",
      "  \"sentiment\": \"neutral\",\n",
      "  \"emotion\": \"informative\",\n",
      "  \"mentioned\": [\"Matt Lewis\"],\n",
      "  \"support\": \"neutral\"\n",
      "}\n",
      "{\n",
      "  \"sentiment\": \"neutral\",\n",
      "  \"emotion\": \"indifference\",\n",
      "  \"mentioned\": [\"brettgriffis10\"],\n",
      "  \"support\": \"neutral\"\n",
      "}\n",
      "{\n",
      "  \"sentiment\": \"neutral\",\n",
      "  \"emotion\": \"none\",\n",
      "  \"mentioned\": [],\n",
      "  \"support\": \"none\"\n",
      "}\n",
      "{\n",
      "  \"sentiment\": \"neutral\",\n",
      "  \"emotion\": \"none\",\n",
      "  \"mentioned\": [],\n",
      "  \"support\": \"neutral\"\n",
      "}\n",
      "{\n",
      "  \"sentiment\": \"neutral\",\n",
      "  \"emotion\": \"none\",\n",
      "  \"mentioned\": [],\n",
      "  \"support\": \"none\"\n",
      "}\n",
      "{\n",
      "  \"sentiment\": \"neutral\",\n",
      "  \"emotion\": \"indifference\",\n",
      "  \"mentioned\": [],\n",
      "  \"support\": \"neutral\"\n",
      "}\n",
      "{\n",
      "  \"sentiment\": \"neutral\",\n",
      "  \"emotion\": \"informative\",\n",
      "  \"mentioned\": [\"ajaysharmacop\", \"Jmu Police\", \"SP South\"],\n",
      "  \"support\": \"neutral\"\n",
      "}\n",
      "{\n",
      "  \"sentiment\": \"neutral\",\n",
      "  \"emotion\": \"indifference\",\n",
      "  \"mentioned\": [\"brettgriffis10\"],\n",
      "  \"support\": \"neutral\"\n",
      "}\n",
      "{\n",
      "  \"sentiment\": \"positive\",\n",
      "  \"emotion\": \"excitement\",\n",
      "  \"mentioned\": [\n",
      "    \"appstatesports\",\n",
      "    \"ODU\",\n",
      "    \"JMU\"\n",
      "  ],\n",
      "  \"support\": \"neutral\"\n",
      "}\n",
      "{\n",
      "  \"sentiment\": \"neutral\",\n",
      "  \"emotion\": \"nostalgia\",\n",
      "  \"mentioned\": [],\n",
      "  \"support\": \"neutral\"\n",
      "}\n",
      "{\n",
      "  \"sentiment\": \"positive\",\n",
      "  \"emotion\": \"excitement\",\n",
      "  \"mentioned\": [\n",
      "    \"appstatesports\",\n",
      "    \"ODU\",\n",
      "    \"JMU\"\n",
      "  ],\n",
      "  \"support\": \"neutral\"\n",
      "}\n",
      "{\n",
      "  \"sentiment\": \"neutral\",\n",
      "  \"emotion\": \"none\",\n",
      "  \"mentioned\": [],\n",
      "  \"support\": \"none\"\n",
      "}\n",
      "{\n",
      "  \"sentiment\": \"neutral\",\n",
      "  \"emotion\": \"surprise\",\n",
      "  \"mentioned\": [\"WireFlames\"],\n",
      "  \"support\": \"neutral\"\n",
      "}\n",
      "{\n",
      "  \"sentiment\": \"neutral\",\n",
      "  \"emotion\": \"informative\",\n",
      "  \"mentioned\": [\n",
      "    \"konohalog\"\n",
      "  ],\n",
      "  \"support\": \"neutral\"\n",
      "}\n",
      "{\n",
      "  \"sentiment\": \"neutral\",\n",
      "  \"emotion\": \"none\",\n",
      "  \"mentioned\": [\n",
      "    \"mkiipen\"\n",
      "  ],\n",
      "  \"support\": \"none\"\n",
      "}\n",
      "{\n",
      "  \"sentiment\": \"positive\",\n",
      "  \"emotion\": \"excitement\",\n",
      "  \"mentioned\": [],\n",
      "  \"support\": \"neutral\"\n",
      "}\n",
      "{\n",
      "  \"sentiment\": \"neutral\",\n",
      "  \"emotion\": \"calm\",\n",
      "  \"mentioned\": [\n",
      "    \"akijikure\"\n",
      "  ],\n",
      "  \"support\": \"neutral\"\n",
      "}\n",
      "{\n",
      "  \"sentiment\": \"neutral\",\n",
      "  \"emotion\": \"informative\",\n",
      "  \"mentioned\": [\"agcdetk\"],\n",
      "  \"support\": \"neutral\"\n",
      "}\n",
      "{\n",
      "  \"sentiment\": \"neutral\",\n",
      "  \"emotion\": \"contentment\",\n",
      "  \"mentioned\": [],\n",
      "  \"support\": \"neutral\"\n",
      "}\n",
      "{\n",
      "  \"sentiment\": \"neutral\",\n",
      "  \"emotion\": \"curiosity\",\n",
      "  \"mentioned\": [\"akijikure\"],\n",
      "  \"support\": \"neutral\"\n",
      "}\n",
      "{\n",
      "  \"sentiment\": \"neutral\",\n",
      "  \"emotion\": \"informative\",\n",
      "  \"mentioned\": [\"kaijiweb\"],\n",
      "  \"support\": \"neutral\"\n",
      "}\n",
      "{\n",
      "  \"sentiment\": \"neutral\",\n",
      "  \"emotion\": \"nostalgia\",\n",
      "  \"mentioned\": [],\n",
      "  \"support\": \"neutral\"\n",
      "}\n",
      "{\n",
      "  \"sentiment\": \"neutral\",\n",
      "  \"emotion\": \"none\",\n",
      "  \"mentioned\": [\"HNlEHupY4Nr6hRM\"],\n",
      "  \"support\": \"none\"\n",
      "}\n",
      "{\n",
      "  \"sentiment\": \"neutral\",\n",
      "  \"emotion\": \"none\",\n",
      "  \"mentioned\": [\"kaijiweb\", \"愛子さま\"],\n",
      "  \"support\": \"none\"\n",
      "}\n",
      "{\n",
      "  \"sentiment\": \"neutral\",\n",
      "  \"emotion\": \"anticipation\",\n",
      "  \"mentioned\": [],\n",
      "  \"support\": \"neutral\"\n",
      "}\n",
      "{\n",
      "  \"sentiment\": \"neutral\",\n",
      "  \"emotion\": \"informative\",\n",
      "  \"mentioned\": [\n",
      "    \"Gov_Vessel_fan\"\n",
      "  ],\n",
      "  \"support\": \"neutral\"\n",
      "}\n",
      "{\n",
      "  \"sentiment\": \"neutral\",\n",
      "  \"emotion\": \"determination\",\n",
      "  \"mentioned\": [\"brettgriffis10\"],\n",
      "  \"support\": \"neutral\"\n",
      "}\n",
      "{\n",
      "  \"sentiment\": \"neutral\",\n",
      "  \"emotion\": \"none\",\n",
      "  \"mentioned\": [],\n",
      "  \"support\": \"none\"\n",
      "}\n",
      "{\n",
      "  \"sentiment\": \"neutral\",\n",
      "  \"emotion\": \"pride\",\n",
      "  \"mentioned\": [\n",
      "    \"JMULacrosse\",\n",
      "    \"IWLCA\"\n",
      "  ],\n",
      "  \"support\": \"neutral\"\n",
      "}\n",
      "{\n",
      "  \"sentiment\": \"positive\",\n",
      "  \"emotion\": \"excitement\",\n",
      "  \"mentioned\": [\n",
      "    \"mechcalvin\",\n",
      "    \"sonkatant\",\n",
      "    \"Chabalo_169\",\n",
      "    \"Monirul80362620\",\n",
      "    \"SahihiLeg\",\n",
      "    \"jmu_martin\",\n",
      "    \"Riivnia\",\n",
      "    \"Nadaism01038402\",\n",
      "    \"waynejetski69\",\n",
      "    \"kaxorro29\"\n",
      "  ],\n",
      "  \"support\": \"neutral\"\n",
      "}\n",
      "{\n",
      "  \"sentiment\": \"neutral\",\n",
      "  \"emotion\": \"informative\",\n",
      "  \"mentioned\": [\"@assytxrf\", \"@BBG17_JDSSURUGA\"],\n",
      "  \"support\": \"neutral\"\n",
      "}\n",
      "{\n",
      "  \"sentiment\": \"positive\",\n",
      "  \"emotion\": \"excitement\",\n",
      "  \"mentioned\": [\"appstatesports\"],\n",
      "  \"support\": \"neutral\"\n",
      "}\n",
      "{\n",
      "  \"sentiment\": \"neutral\",\n",
      "  \"emotion\": \"concern\",\n",
      "  \"mentioned\": [\"@N_Cocky\", \"@BBG17_JDSSURUGA\"],\n",
      "  \"support\": \"neutral\"\n",
      "}\n",
      "{\n",
      "  \"sentiment\": \"neutral\",\n",
      "  \"emotion\": \"anticipation\",\n",
      "  \"mentioned\": [],\n",
      "  \"support\": \"neutral\"\n",
      "}\n",
      "{\n",
      "  \"sentiment\": \"positive\",\n",
      "  \"emotion\": \"excitement\",\n",
      "  \"mentioned\": [\n",
      "    \"appstatesports\"\n",
      "  ],\n",
      "  \"support\": \"neutral\"\n",
      "}\n",
      "{\n",
      "  \"sentiment\": \"neutral\",\n",
      "  \"emotion\": \"none\",\n",
      "  \"mentioned\": [],\n",
      "  \"support\": \"neutral\"\n",
      "}\n",
      "{\n",
      "  \"sentiment\": \"neutral\",\n",
      "  \"emotion\": \"none\",\n",
      "  \"mentioned\": [],\n",
      "  \"support\": \"none\"\n",
      "}\n",
      "{\n",
      "  \"sentiment\": \"neutral\",\n",
      "  \"emotion\": \"uncertainty\",\n",
      "  \"mentioned\": [\"brettgriffis10\"],\n",
      "  \"support\": \"neutral\"\n",
      "}\n",
      "{\n",
      "  \"sentiment\": \"neutral\",\n",
      "  \"emotion\": \"anticipation\",\n",
      "  \"mentioned\": [],\n",
      "  \"support\": \"neutral\"\n",
      "}\n",
      "{\n",
      "  \"sentiment\": \"neutral\",\n",
      "  \"emotion\": \"anticipation\",\n",
      "  \"mentioned\": [\"brettgriffis10\"],\n",
      "  \"support\": \"neutral\"\n",
      "}\n",
      "{\n",
      "  \"sentiment\": \"neutral\",\n",
      "  \"emotion\": \"anticipation\",\n",
      "  \"mentioned\": [\"HaydenHundley_\"],\n",
      "  \"support\": \"neutral\"\n",
      "}\n",
      "{\n",
      "  \"sentiment\": \"neutral\",\n",
      "  \"emotion\": \"informative\",\n",
      "  \"mentioned\": [\n",
      "    \"Gov_Vessel_fan\"\n",
      "  ],\n",
      "  \"support\": \"neutral\"\n",
      "}\n",
      "{\n",
      "  \"sentiment\": \"neutral\",\n",
      "  \"emotion\": \"none\",\n",
      "  \"mentioned\": [],\n",
      "  \"support\": \"neutral\"\n",
      "}\n",
      "{\n",
      "  \"sentiment\": \"neutral\",\n",
      "  \"emotion\": \"uncertainty\",\n",
      "  \"mentioned\": [\"brettgriffis10\"],\n",
      "  \"support\": \"neutral\"\n",
      "}\n",
      "{\n",
      "  \"sentiment\": \"positive\",\n",
      "  \"emotion\": \"excitement\",\n",
      "  \"mentioned\": [\n",
      "    \"appstatesports\",\n",
      "    \"ODU\",\n",
      "    \"JMU\"\n",
      "  ],\n",
      "  \"support\": \"neutral\"\n",
      "}\n",
      "{\n",
      "  \"sentiment\": \"positive\",\n",
      "  \"emotion\": \"gratitude\",\n",
      "  \"mentioned\": [\n",
      "    \"CaydenParker07\",\n",
      "    \"Coach_DiMike\",\n",
      "    \"CoachSamDaniels\",\n",
      "    \"JMUFBRecruiting\",\n",
      "    \"JMUFootball\"\n",
      "  ],\n",
      "  \"support\": \"neutral\"\n",
      "}\n",
      "{\n",
      "  \"sentiment\": \"neutral\",\n",
      "  \"emotion\": \"concern\",\n",
      "  \"mentioned\": [\n",
      "    \"@mayan1969\",\n",
      "    \"@BBG17_JDSSURUGA\"\n",
      "  ],\n",
      "  \"support\": \"neutral\"\n",
      "}\n",
      "{\"sentiment\": \"positive\", \"emotion\": \"cheerful\", \"mentioned\": [\"@JmuKmrPolice\", \"@ZPHQJammu\", \"@diprjk\", \"@igp_jammu\", \"@GeologyMiningJK\"], \"support\": \"neutral\"}\n",
      "{\n",
      "  \"sentiment\": \"neutral\",\n",
      "  \"emotion\": \"anticipation\",\n",
      "  \"mentioned\": [\"HaydenHundley_\"],\n",
      "  \"support\": \"neutral\"\n",
      "}\n",
      "{\n",
      "  \"sentiment\": \"neutral\",\n",
      "  \"emotion\": \"anticipation\",\n",
      "  \"mentioned\": [\"brettgriffis10\"],\n",
      "  \"support\": \"neutral\"\n",
      "}\n"
     ]
    }
   ],
   "source": [
    "for tweet in tweet_data:\n",
    "    messages = [\n",
    "        {\"role\": \"system\", \"content\": f\"\"\"analyze the tweet delimited by {delimiter} in the following steps:\n",
    "                                        step 1 {delimiter} identify the tweet sentiment in a single word, either positive, negative or neutral;\n",
    "                                        step 2 {delimiter} identify the emotions expressed in the tweet with a single word;\n",
    "                                        step 3 {delimiter} extract the mentioned peoples;\n",
    "                                        step 4 {delimiter} detect whether the tweet support Democratic or Replublican, return the resunt in a single word;\n",
    "                                        step 5 {delimiter} organize the result in a json document with the keys <sentiment>, <emontion>,<mentioned>, <support>\n",
    "                                         Do not wrap the json codes in JSON markers and only return the json document\"\"\"},\n",
    "        {\"role\": \"user\", \"content\": f\"{delimiter}{tweet}{delimiter} \"}]\n",
    "    print(openai_help(messages))"
   ]
  },
  {
   "cell_type": "code",
   "execution_count": 22,
   "id": "78c4fb96-a33c-44a0-b754-58efc2972c8a",
   "metadata": {
    "tags": []
   },
   "outputs": [
    {
     "name": "stdout",
     "output_type": "stream",
     "text": [
      "{\n",
      "  \"topics\": [\n",
      "    \"JMU sports and athletics\",\n",
      "    \"JMU student and alumni experiences\",\n",
      "    \"JMU transfer portal and player movements\",\n",
      "    \"JMU and Sun Belt Conference sports results\",\n",
      "    \"JMU and Japanese Maritime Self-Defense Force (JMSDF) shipbuilding\",\n",
      "    \"JMU and cultural events or celebrations\",\n",
      "    \"JMU and media coverage\",\n",
      "    \"JMU and academic or research achievements\",\n",
      "    \"JMU and community engagement or outreach\",\n",
      "    \"JMU and social media interactions\"\n",
      "  ]\n",
      "}\n"
     ]
    }
   ],
   "source": [
    "\n",
    "messages = [\n",
    "        {\"role\": \"system\", \"content\": f\"\"\"analyze the tweet delimited by {delimiter} to identify 10 topics, \n",
    "                                  Do not wrap the json codes in JSON markers \"\"\"},\n",
    "        {\"role\": \"user\", \"content\": f\"{delimiter}{tweet_data}{delimiter} \"}]\n",
    "print(openai_help(messages))"
   ]
  },
  {
   "cell_type": "markdown",
   "id": "d24c9e00-9cbb-4f96-a0bf-79135d0c8262",
   "metadata": {
    "tags": []
   },
   "source": [
    "### Expanding with multiple prompts \n",
    "- Identify which party receives majority supports\n",
    "- Provide contexts in the system message\n",
    "- Create a chatbot to answer users’ inquiry  \n"
   ]
  },
  {
   "cell_type": "code",
   "execution_count": 23,
   "id": "d34f68d6-2794-452f-9d5a-4b52fac427d7",
   "metadata": {
    "tags": []
   },
   "outputs": [
    {
     "name": "stderr",
     "output_type": "stream",
     "text": [
      "100%|██████████| 69/69 [01:09<00:00,  1.01s/it]\n"
     ]
    }
   ],
   "source": [
    "analysis_result = []\n",
    "from tqdm import tqdm\n",
    "for tweet in tqdm(tweet_data):\n",
    "    messages = [\n",
    "        {\"role\": \"system\", \"content\": f\"\"\"analyze the tweet delimited by {delimiter} in the following steps:\n",
    "                                        step 1 {delimiter} identify the tweet sentiment in a single word, either positive, negative or neutral;\n",
    "                                        step 2 {delimiter} identify the emotions expressed in the tweet with a single word;\n",
    "                                        step 3 {delimiter} extract the mentioned peoples;\n",
    "                                        step 4 {delimiter} detect whether the tweet support Democratic or Replublican, return the resunt in a singple word;\n",
    "                                        step 5 {delimiter} organize the result in a json document with the keys <sentiment>, <emontion>,<mentioned>, <support>\n",
    "                                         Do not wrap the json codes in JSON markers and only return the json document\"\"\"},\n",
    "        {\"role\": \"user\", \"content\": f\"{delimiter}{tweet}{delimiter} \"}]\n",
    "    analysis_result.append(openai_help(messages))\n"
   ]
  },
  {
   "cell_type": "code",
   "execution_count": 24,
   "id": "f564426c-53a9-4415-9d94-790ea68907de",
   "metadata": {
    "scrolled": true,
    "tags": []
   },
   "outputs": [
    {
     "name": "stdout",
     "output_type": "stream",
     "text": [
      "['{\\n  \"sentiment\": \"neutral\",\\n  \"emotion\": \"none\",\\n  \"mentioned\": [],\\n  \"support\": \"none\"\\n}', '{\\n  \"sentiment\": \"neutral\",\\n  \"emotion\": \"none\",\\n  \"mentioned\": [],\\n  \"support\": \"none\"\\n}', '{\\n  \"sentiment\": \"neutral\",\\n  \"emotion\": \"pride\",\\n  \"mentioned\": [\\n    \"JMULacrosse\",\\n    \"IWLCA\"\\n  ],\\n  \"support\": \"\"\\n}', '{\\n  \"sentiment\": \"positive\",\\n  \"emotion\": \"excitement\",\\n  \"mentioned\": [\\n    \"jajuppe\",\\n    \"coachdc34\",\\n    \"CoachBobChesney\",\\n    \"JMUFootball\"\\n  ],\\n  \"support\": \"neutral\"\\n}', '{\\n  \"sentiment\": \"positive\",\\n  \"emotion\": \"gratitude\",\\n  \"mentioned\": [\\n    \"CaydenParker07\",\\n    \"Coach_DiMike\",\\n    \"CoachSamDaniels\",\\n    \"JMUFBRecruiting\",\\n    \"JMUFootbal\"\\n  ],\\n  \"support\": \"neutral\"\\n}', '{\\n  \"sentiment\": \"negative\",\\n  \"emotion\": \"sadness\",\\n  \"mentioned\": [],\\n  \"support\": \"neutral\"\\n}', '{\\n  \"sentiment\": \"positive\",\\n  \"emotion\": \"excitement\",\\n  \"mentioned\": [\\n    \"@RaginCajunsBSB\",\\n    \"@SunBelt\"\\n  ],\\n  \"support\": \"neutral\"\\n}', '{\\n  \"sentiment\": \"positive\",\\n  \"emotion\": \"fun\",\\n  \"mentioned\": [\\n    \"FastLaneEdLane\",\\n    \"MartinsvilleSwy\",\\n    \"Shane_DNRSports\",\\n    \"UVA\"\\n  ],\\n  \"support\": \"neutral\"\\n}', '{\\n  \"sentiment\": \"positive\",\\n  \"emotion\": \"excitement\",\\n  \"mentioned\": [\\n    \"JohnathanMile55\",\\n    \"CoachhBarnes\",\\n    \"CoachSamDaniels\",\\n    \"JMUFootball\",\\n    \"StPaulsFB\",\\n    \"NooffseasonMD\"\\n  ],\\n  \"support\": \"neutral\"\\n}', '{\\n  \"sentiment\": \"neutral\",\\n  \"emotion\": \"unclear\",\\n  \"mentioned\": [],\\n  \"support\": \"unclear\"\\n}', '{\\n  \"sentiment\": \"positive\",\\n  \"emotion\": \"excitement\",\\n  \"mentioned\": [\\n    \"@MartinsvilleSwy\",\\n    \"@Shane_DNRSports\",\\n    \"@JerryRatcliffe\",\\n    \"@therealdcunna\",\\n    \"@TechSideline\",\\n    \"@JCManson\",\\n    \"@ASeaofRed\",\\n    \"@TreyLyleVT\"\\n  ],\\n  \"support\": \"neutral\"\\n}', '{\\n  \"sentiment\": \"neutral\",\\n  \"emotion\": \"informative\",\\n  \"mentioned\": [\\n    \"Paul Lewis\",\\n    \"Matt Lewis\",\\n    \"JacksonHephner\"\\n  ],\\n  \"support\": \"neutral\"\\n}', '{\\n  \"sentiment\": \"neutral\",\\n  \"emotion\": \"none\",\\n  \"mentioned\": [\\n    \"ColbyGHoops\",\\n    \"MADEscouting\",\\n    \"madehoops\",\\n    \"MaxFeldman6\",\\n    \"TravisGrafHoops\",\\n    \"BflinnHoops\",\\n    \"TrainingMvm\",\\n    \"MarcusHelton\"\\n  ],\\n  \"support\": \"none\"\\n}', '{\\n  \"sentiment\": \"neutral\",\\n  \"emotion\": \"indifferent\",\\n  \"mentioned\": [\"brettgriffis10\"],\\n  \"support\": \"neutral\"\\n}', '{\\n  \"sentiment\": \"positive\",\\n  \"emotion\": \"excitement\",\\n  \"mentioned\": [],\\n  \"support\": \"neutral\"\\n}', '{\\n  \"sentiment\": \"neutral\",\\n  \"emotion\": \"informative\",\\n  \"mentioned\": [\\n    \"@N_Cocky\",\\n    \"@BBG17_JDSSURUGA\"\\n  ],\\n  \"support\": \"neutral\"\\n}', '{\\n  \"sentiment\": \"neutral\",\\n  \"emotion\": \"informative\",\\n  \"mentioned\": [\"Paul Lewis\", \"Matt Lewis\"],\\n  \"support\": \"neutral\"\\n}', '{\\n  \"sentiment\": \"neutral\",\\n  \"emotion\": \"excitement\",\\n  \"mentioned\": [\\n    \"3liibr\",\\n    \"ebsneto_jmu\",\\n    \"nft_luvver2\",\\n    \"PMCARESFUND_\",\\n    \"dust_red1998\",\\n    \"CoulsonRebecka\",\\n    \"zeerak_awann\",\\n    \"TruDaoCastro\",\\n    \"ZiaUlla15973730\",\\n    \"MattNeemz\"\\n  ],\\n  \"support\": \"neutral\"\\n}', '{\\n  \"sentiment\": \"neutral\",\\n  \"emotion\": \"none\",\\n  \"mentioned\": [],\\n  \"support\": \"none\"\\n}', '{\\n  \"sentiment\": \"neutral\",\\n  \"emotion\": \"informative\",\\n  \"mentioned\": [\"Matt Lewis\"],\\n  \"support\": \"neutral\"\\n}', '{\\n  \"sentiment\": \"neutral\",\\n  \"emotion\": \"indifferent\",\\n  \"mentioned\": [\"brettgriffis10\"],\\n  \"support\": \"neutral\"\\n}', '{\\n  \"sentiment\": \"neutral\",\\n  \"emotion\": \"none\",\\n  \"mentioned\": [],\\n  \"support\": \"neutral\"\\n}', '{\\n  \"sentiment\": \"neutral\",\\n  \"emotion\": \"none\",\\n  \"mentioned\": [],\\n  \"support\": \"none\"\\n}', '{\\n  \"sentiment\": \"neutral\",\\n  \"emotion\": \"none\",\\n  \"mentioned\": [],\\n  \"support\": \"neutral\"\\n}', '{\\n  \"sentiment\": \"neutral\",\\n  \"emotion\": \"indifference\",\\n  \"mentioned\": [],\\n  \"support\": \"neutral\"\\n}', '{\\n  \"sentiment\": \"neutral\",\\n  \"emotion\": \"cheerful\",\\n  \"mentioned\": [\"ajaysharmacop\", \"SP South\"],\\n  \"support\": \"neutral\"\\n}', '{\\n  \"sentiment\": \"neutral\",\\n  \"emotion\": \"indifference\",\\n  \"mentioned\": [\"brettgriffis10\"],\\n  \"support\": \"neutral\"\\n}', '{\\n  \"sentiment\": \"positive\",\\n  \"emotion\": \"excitement\",\\n  \"mentioned\": [\"appstatesports\", \"ODU\", \"JMU\"],\\n  \"support\": \"neutral\"\\n}', '{\\n  \"sentiment\": \"neutral\",\\n  \"emotion\": \"nostalgia\",\\n  \"mentioned\": [],\\n  \"support\": \"neutral\"\\n}', '{\\n  \"sentiment\": \"positive\",\\n  \"emotion\": \"excitement\",\\n  \"mentioned\": [\\n    \"appstatesports\",\\n    \"ODU\",\\n    \"JMU\"\\n  ],\\n  \"support\": \"neutral\"\\n}', '{\\n  \"sentiment\": \"neutral\",\\n  \"emotion\": \"none\",\\n  \"mentioned\": [],\\n  \"support\": \"none\"\\n}', '{\\n  \"sentiment\": \"neutral\",\\n  \"emotion\": \"surprise\",\\n  \"mentioned\": [\"WireFlames\"],\\n  \"support\": \"neutral\"\\n}', '{\\n  \"sentiment\": \"neutral\",\\n  \"emotion\": \"informative\",\\n  \"mentioned\": [\\n    \"konohalog\"\\n  ],\\n  \"support\": \"neutral\"\\n}', '{\\n  \"sentiment\": \"neutral\",\\n  \"emotion\": \"calm\",\\n  \"mentioned\": [\\n    \"mkiipen\"\\n  ],\\n  \"support\": \"neutral\"\\n}', '{\\n  \"sentiment\": \"positive\",\\n  \"emotion\": \"excitement\",\\n  \"mentioned\": [],\\n  \"support\": \"neutral\"\\n}', '{\\n  \"sentiment\": \"neutral\",\\n  \"emotion\": \"calm\",\\n  \"mentioned\": [\"akijikure\"],\\n  \"support\": \"neutral\"\\n}', '{\\n  \"sentiment\": \"neutral\",\\n  \"emotion\": \"informative\",\\n  \"mentioned\": [],\\n  \"support\": \"neutral\"\\n}', '{\\n  \"sentiment\": \"neutral\",\\n  \"emotion\": \"contentment\",\\n  \"mentioned\": [],\\n  \"support\": \"neutral\"\\n}', '{\\n  \"sentiment\": \"neutral\",\\n  \"emotion\": \"curiosity\",\\n  \"mentioned\": [\"akijikure\"],\\n  \"support\": \"neutral\"\\n}', '{\\n  \"sentiment\": \"neutral\",\\n  \"emotion\": \"informative\",\\n  \"mentioned\": [\\n    \"kaijiweb\"\\n  ],\\n  \"support\": \"neutral\"\\n}', '{\\n  \"sentiment\": \"neutral\",\\n  \"emotion\": \"nostalgia\",\\n  \"mentioned\": [],\\n  \"support\": \"\"\\n}', '{\\n  \"sentiment\": \"neutral\",\\n  \"emotion\": \"none\",\\n  \"mentioned\": [\"HNlEHupY4Nr6hRM\"],\\n  \"support\": \"none\"\\n}', '{\\n  \"sentiment\": \"neutral\",\\n  \"emotion\": \"none\",\\n  \"mentioned\": [\"kaijiweb\", \"愛子さま\"],\\n  \"support\": \"none\"\\n}', '{\\n  \"sentiment\": \"neutral\",\\n  \"emotion\": \"anticipation\",\\n  \"mentioned\": [],\\n  \"support\": \"neutral\"\\n}', '{\\n  \"sentiment\": \"neutral\",\\n  \"emotion\": \"informative\",\\n  \"mentioned\": [\\n    \"Gov_Vessel_fan\"\\n  ],\\n  \"support\": \"neutral\"\\n}', '{\\n  \"sentiment\": \"neutral\",\\n  \"emotion\": \"indifferent\",\\n  \"mentioned\": [\"brettgriffis10\"],\\n  \"support\": \"neutral\"\\n}', '{\\n  \"sentiment\": \"neutral\",\\n  \"emotion\": \"none\",\\n  \"mentioned\": [],\\n  \"support\": \"none\"\\n}', '{\\n  \"sentiment\": \"neutral\",\\n  \"emotion\": \"pride\",\\n  \"mentioned\": [\\n    \"JMULacrosse\",\\n    \"IWLCA\"\\n  ],\\n  \"support\": \"neutral\"\\n}', '{\\n  \"sentiment\": \"positive\",\\n  \"emotion\": \"excitement\",\\n  \"mentioned\": [\\n    \"mechcalvin\",\\n    \"sonkatant\",\\n    \"Chabalo_169\",\\n    \"Monirul80362620\",\\n    \"SahihiLeg\",\\n    \"jmu_martin\",\\n    \"Riivnia\",\\n    \"Nadaism01038402\",\\n    \"waynejetski69\",\\n    \"kaxorro29\"\\n  ],\\n  \"support\": \"neutral\"\\n}', '{\\n  \"sentiment\": \"neutral\",\\n  \"emotion\": \"informative\",\\n  \"mentioned\": [\"@assytxrf\", \"@BBG17_JDSSURUGA\"],\\n  \"support\": \"neutral\"\\n}', '{\\n  \"sentiment\": \"positive\",\\n  \"emotion\": \"excitement\",\\n  \"mentioned\": [\"@appstatesports\"],\\n  \"support\": \"neutral\"\\n}', '{\\n  \"sentiment\": \"neutral\",\\n  \"emotion\": \"concern\",\\n  \"mentioned\": [\\n    \"@N_Cocky\",\\n    \"@BBG17_JDSSURUGA\"\\n  ],\\n  \"support\": \"neutral\"\\n}', '{\\n  \"sentiment\": \"neutral\",\\n  \"emotion\": \"anticipation\",\\n  \"mentioned\": [],\\n  \"support\": \"neutral\"\\n}', '{\\n  \"sentiment\": \"positive\",\\n  \"emotion\": \"excitement\",\\n  \"mentioned\": [\\n    \"appstatesports\"\\n  ],\\n  \"support\": \"neutral\"\\n}', '{\\n  \"sentiment\": \"neutral\",\\n  \"emotion\": \"none\",\\n  \"mentioned\": [],\\n  \"support\": \"neutral\"\\n}', '{\\n  \"sentiment\": \"neutral\",\\n  \"emotion\": \"none\",\\n  \"mentioned\": [],\\n  \"support\": \"none\"\\n}', '{\\n  \"sentiment\": \"neutral\",\\n  \"emotion\": \"indifferent\",\\n  \"mentioned\": [\\n    \"brettgriffis10\"\\n  ],\\n  \"support\": \"neutral\"\\n}', '{\\n  \"sentiment\": \"neutral\",\\n  \"emotion\": \"anticipation\",\\n  \"mentioned\": [],\\n  \"support\": \"neutral\"\\n}', '{\\n  \"sentiment\": \"neutral\",\\n  \"emotion\": \"indifferent\",\\n  \"mentioned\": [\"brettgriffis10\"],\\n  \"support\": \"neutral\"\\n}', '{\\n  \"sentiment\": \"neutral\",\\n  \"emotion\": \"anticipation\",\\n  \"mentioned\": [\"HaydenHundley_\"],\\n  \"support\": \"neutral\"\\n}', '{\\n  \"sentiment\": \"neutral\",\\n  \"emotion\": \"informative\",\\n  \"mentioned\": [\"Gov_Vessel_fan\"],\\n  \"support\": \"neutral\"\\n}', '{\\n  \"sentiment\": \"neutral\",\\n  \"emotion\": \"none\",\\n  \"mentioned\": [],\\n  \"support\": \"none\"\\n}', '{\\n  \"sentiment\": \"neutral\",\\n  \"emotion\": \"anticipation\",\\n  \"mentioned\": [\"brettgriffis10\"],\\n  \"support\": \"neutral\"\\n}', '{\\n  \"sentiment\": \"positive\",\\n  \"emotion\": \"excitement\",\\n  \"mentioned\": [\"@appstatesports\"],\\n  \"support\": \"neutral\"\\n}', '{\\n  \"sentiment\": \"positive\",\\n  \"emotion\": \"gratitude\",\\n  \"mentioned\": [\\n    \"CaydenParker07\",\\n    \"Coach_DiMike\",\\n    \"CoachSamDaniels\",\\n    \"JMUFBRecruiting\",\\n    \"JMUFootball\"\\n  ],\\n  \"support\": \"neutral\"\\n}', '{\\n  \"sentiment\": \"neutral\",\\n  \"emotion\": \"concern\",\\n  \"mentioned\": [\\n    \"@mayan1969\",\\n    \"@BBG17_JDSSURUGA\"\\n  ],\\n  \"support\": \"neutral\"\\n}', '{\"sentiment\": \"positive\", \"emotion\": \"cheerful\", \"mentioned\": [\"@JmuKmrPolice\", \"@ZPHQJammu\", \"@diprjk\", \"@igp_jammu\", \"@GeologyMiningJK\"], \"support\": \"neutral\"}', '{\\n  \"sentiment\": \"neutral\",\\n  \"emotion\": \"anticipation\",\\n  \"mentioned\": [\"HaydenHundley_\"],\\n  \"support\": \"neutral\"\\n}', '{\\n  \"sentiment\": \"neutral\",\\n  \"emotion\": \"indifferent\",\\n  \"mentioned\": [\"brettgriffis10\"],\\n  \"support\": \"neutral\"\\n}']\n"
     ]
    }
   ],
   "source": [
    "print(analysis_result)"
   ]
  },
  {
   "cell_type": "code",
   "execution_count": 25,
   "id": "c601722e-7f37-45fb-b580-9aeed74fe3a7",
   "metadata": {
    "tags": []
   },
   "outputs": [
    {
     "name": "stdout",
     "output_type": "stream",
     "text": [
      "{\n",
      "  \"Democratic count\": 0,\n",
      "  \"Republican count\": 0,\n",
      "  \"people name\": []\n",
      "}\n"
     ]
    }
   ],
   "source": [
    "messages = [\n",
    "        {\"role\": \"system\", \"content\": f\"\"\"analyze the tweet analysis reuslt delimited by {delimiter} in the following steps:\n",
    "                                        step 1 {delimiter} count the number of tweets that support Democratic and Republican;\n",
    "                                        step 2 {delimiter} identify the common sentiments and emotoions to each mentioned people;\n",
    "                                        step 3 {delimiter} organize the result in a json document with keys <Democratic count>, <Republican count>, <people name>\n",
    "                                         Do not wrap the json codes in JSON markers and only return the json document\"\"\"},\n",
    "        {\"role\": \"user\", \"content\": f\"{delimiter}{analysis_result}{delimiter} \"}]\n",
    "analysis_summary = openai_help(messages)\n",
    "print(analysis_summary)"
   ]
  },
  {
   "cell_type": "markdown",
   "id": "5a5f98ac-b2f6-4741-82c9-8e8f88f09cf1",
   "metadata": {},
   "source": [
    "## Create a chatbot"
   ]
  },
  {
   "cell_type": "code",
   "execution_count": 26,
   "id": "91173534-53b8-4d6b-b9c0-198913b7ada8",
   "metadata": {
    "tags": []
   },
   "outputs": [],
   "source": [
    "from openai import OpenAI\n",
    "\n",
    "openai_api_key  = get_secret('openai')['api_key']\n",
    "client = OpenAI(api_key=openai_api_key)\n",
    "model = 'gpt-4o'\n",
    "temperature = 0\n",
    "\n",
    "chat_history = [\n",
    "\n",
    "{\"role\": \"system\", \"content\": f\"\"\"you are a chabot answer user questions based on the tweets,\n",
    "                                {delimiter}{tweet_data}{delimiter}, \n",
    "                                if user mentioned a people name in the {delimiter}{analysis_summary}{delimiter} people field,report the corresponding sentiment and emotion,\n",
    "                            \n",
    "                            \"\"\"}\n",
    "]\n",
    "\n",
    "def chatbot(prompt):\n",
    "\n",
    "    chat_history.append({\"role\": \"user\", \"content\": prompt})\n",
    "\n",
    "    response = client.chat.completions.create(\n",
    "        model=model,  # Use the model you prefer\n",
    "        messages=chat_history\n",
    "    )\n",
    "\n",
    "    reply = response.choices[0].message.content\n",
    "\n",
    "    chat_history.append({\"role\": \"assistant\", \"content\": reply})\n",
    "    \n",
    "    return reply"
   ]
  },
  {
   "cell_type": "code",
   "execution_count": null,
   "id": "9a949601-5af9-4d0b-80d7-5297cc4e52f4",
   "metadata": {
    "tags": []
   },
   "outputs": [],
   "source": [
    "while True:\n",
    "    user_input = input(\"You: \")\n",
    "    if user_input.lower() in ['exit', 'quit']:\n",
    "        print(\"Chatbot: Goodbye!\")\n",
    "        break\n",
    "    reply = chatbot(user_input)\n",
    "    print(f\"Chatbot: {reply}\")"
   ]
  },
  {
   "cell_type": "markdown",
   "id": "2f497dd9-8e6e-4f40-b546-8fe225185729",
   "metadata": {},
   "source": [
    "## Reference\n",
    "- Isa Fulford and Andrew Ng. n.d.-a. *“Building Systems with the ChatGPT API.”* DeepLearning.AI. Accessed October 25, 2024. https://www.deeplearning.ai/short-courses/building-systems-with-chatgpt/.\n",
    "- ———. n.d.-b. *“ChatGPT Prompt Engineering for Developers.”* DeepLearning.AI. Accessed October 25, 2024. https://www.deeplearning.ai/short-courses/chatgpt-prompt-engineering-for-developers/.\n",
    "- OpenAI. n.d. *“OpenAI Documents.”* OpenAI. Accessed October 18, 2024. https://platform.openai.com.\n"
   ]
  },
  {
   "cell_type": "code",
   "execution_count": null,
   "id": "44b06a39-30aa-498b-aff2-049fd65b7fd3",
   "metadata": {},
   "outputs": [],
   "source": []
  }
 ],
 "metadata": {
  "kernelspec": {
   "display_name": "conda_python3",
   "language": "python",
   "name": "conda_python3"
  },
  "language_info": {
   "codemirror_mode": {
    "name": "ipython",
    "version": 3
   },
   "file_extension": ".py",
   "mimetype": "text/x-python",
   "name": "python",
   "nbconvert_exporter": "python",
   "pygments_lexer": "ipython3",
   "version": "3.10.16"
  }
 },
 "nbformat": 4,
 "nbformat_minor": 5
}
